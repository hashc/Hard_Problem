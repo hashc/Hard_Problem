{
 "cells": [
  {
   "cell_type": "code",
   "execution_count": 1,
   "metadata": {},
   "outputs": [],
   "source": [
    "%load_ext autoreload\n",
    "%autoreload 2\n",
    "import pandas as pd\n",
    "import sys\n",
    "sys.path.append(\"../ComSub\")\n",
    "from ECI  import *\n",
    "import re\n",
    "from collections import defaultdict, Counter\n",
    "p1 = re.compile(r'[<](.*?)[>]', re.S)  #最小匹配"
   ]
  },
  {
   "cell_type": "code",
   "execution_count": 68,
   "metadata": {},
   "outputs": [],
   "source": [
    "import matplotlib.pyplot as plt\n",
    "import seaborn as sns"
   ]
  },
  {
   "cell_type": "code",
   "execution_count": 2,
   "metadata": {},
   "outputs": [],
   "source": [
    "data = pd.read_csv(\"./Posts_phys.csv\")"
   ]
  },
  {
   "cell_type": "code",
   "execution_count": 3,
   "metadata": {},
   "outputs": [
    {
     "data": {
      "text/html": [
       "<div>\n",
       "<style scoped>\n",
       "    .dataframe tbody tr th:only-of-type {\n",
       "        vertical-align: middle;\n",
       "    }\n",
       "\n",
       "    .dataframe tbody tr th {\n",
       "        vertical-align: top;\n",
       "    }\n",
       "\n",
       "    .dataframe thead th {\n",
       "        text-align: right;\n",
       "    }\n",
       "</style>\n",
       "<table border=\"1\" class=\"dataframe\">\n",
       "  <thead>\n",
       "    <tr style=\"text-align: right;\">\n",
       "      <th></th>\n",
       "      <th>PostTypeId</th>\n",
       "      <th>Id</th>\n",
       "      <th>OwnerUserId</th>\n",
       "      <th>CreationDate</th>\n",
       "      <th>AcceptedAnswerId</th>\n",
       "      <th>Tags</th>\n",
       "      <th>ParentId</th>\n",
       "      <th>Score</th>\n",
       "      <th>CommentCount</th>\n",
       "      <th>ViewCount</th>\n",
       "      <th>AnswerCount</th>\n",
       "      <th>FavoriteCount</th>\n",
       "    </tr>\n",
       "  </thead>\n",
       "  <tbody>\n",
       "    <tr>\n",
       "      <th>0</th>\n",
       "      <td>1</td>\n",
       "      <td>1</td>\n",
       "      <td>7.0</td>\n",
       "      <td>2010-11-02T18:59:01.140</td>\n",
       "      <td>5.0</td>\n",
       "      <td>&lt;quantum-mechanics&gt;&lt;particle-physics&gt;&lt;angular-...</td>\n",
       "      <td>NaN</td>\n",
       "      <td>68</td>\n",
       "      <td>5</td>\n",
       "      <td>12383.0</td>\n",
       "      <td>4.0</td>\n",
       "      <td>23.0</td>\n",
       "    </tr>\n",
       "    <tr>\n",
       "      <th>1</th>\n",
       "      <td>1</td>\n",
       "      <td>2</td>\n",
       "      <td>23.0</td>\n",
       "      <td>2010-11-02T19:09:48.680</td>\n",
       "      <td>5704.0</td>\n",
       "      <td>&lt;particle-physics&gt;&lt;string-theory&gt;</td>\n",
       "      <td>NaN</td>\n",
       "      <td>27</td>\n",
       "      <td>3</td>\n",
       "      <td>2276.0</td>\n",
       "      <td>4.0</td>\n",
       "      <td>8.0</td>\n",
       "    </tr>\n",
       "    <tr>\n",
       "      <th>2</th>\n",
       "      <td>1</td>\n",
       "      <td>3</td>\n",
       "      <td>40.0</td>\n",
       "      <td>2010-11-02T19:11:05.857</td>\n",
       "      <td>180.0</td>\n",
       "      <td>&lt;particle-physics&gt;&lt;group-theory&gt;&lt;representatio...</td>\n",
       "      <td>NaN</td>\n",
       "      <td>32</td>\n",
       "      <td>5</td>\n",
       "      <td>2113.0</td>\n",
       "      <td>3.0</td>\n",
       "      <td>12.0</td>\n",
       "    </tr>\n",
       "    <tr>\n",
       "      <th>3</th>\n",
       "      <td>2</td>\n",
       "      <td>4</td>\n",
       "      <td>20.0</td>\n",
       "      <td>2010-11-02T19:12:26.543</td>\n",
       "      <td>NaN</td>\n",
       "      <td>NaN</td>\n",
       "      <td>1.0</td>\n",
       "      <td>19</td>\n",
       "      <td>2</td>\n",
       "      <td>NaN</td>\n",
       "      <td>NaN</td>\n",
       "      <td>NaN</td>\n",
       "    </tr>\n",
       "    <tr>\n",
       "      <th>4</th>\n",
       "      <td>2</td>\n",
       "      <td>5</td>\n",
       "      <td>13.0</td>\n",
       "      <td>2010-11-02T19:15:20.813</td>\n",
       "      <td>NaN</td>\n",
       "      <td>NaN</td>\n",
       "      <td>1.0</td>\n",
       "      <td>42</td>\n",
       "      <td>0</td>\n",
       "      <td>NaN</td>\n",
       "      <td>NaN</td>\n",
       "      <td>NaN</td>\n",
       "    </tr>\n",
       "  </tbody>\n",
       "</table>\n",
       "</div>"
      ],
      "text/plain": [
       "   PostTypeId  Id  OwnerUserId             CreationDate  AcceptedAnswerId  \\\n",
       "0           1   1          7.0  2010-11-02T18:59:01.140               5.0   \n",
       "1           1   2         23.0  2010-11-02T19:09:48.680            5704.0   \n",
       "2           1   3         40.0  2010-11-02T19:11:05.857             180.0   \n",
       "3           2   4         20.0  2010-11-02T19:12:26.543               NaN   \n",
       "4           2   5         13.0  2010-11-02T19:15:20.813               NaN   \n",
       "\n",
       "                                                Tags  ParentId  Score  \\\n",
       "0  <quantum-mechanics><particle-physics><angular-...       NaN     68   \n",
       "1                  <particle-physics><string-theory>       NaN     27   \n",
       "2  <particle-physics><group-theory><representatio...       NaN     32   \n",
       "3                                                NaN       1.0     19   \n",
       "4                                                NaN       1.0     42   \n",
       "\n",
       "   CommentCount  ViewCount  AnswerCount  FavoriteCount  \n",
       "0             5    12383.0          4.0           23.0  \n",
       "1             3     2276.0          4.0            8.0  \n",
       "2             5     2113.0          3.0           12.0  \n",
       "3             2        NaN          NaN            NaN  \n",
       "4             0        NaN          NaN            NaN  "
      ]
     },
     "execution_count": 3,
     "metadata": {},
     "output_type": "execute_result"
    }
   ],
   "source": [
    "data.head()"
   ]
  },
  {
   "cell_type": "markdown",
   "metadata": {},
   "source": [
    "存在的关系\n",
    "- 提问者-问题 \n",
    "- 回答者-问题\n",
    "- 回答者-tag的关系"
   ]
  },
  {
   "cell_type": "code",
   "execution_count": 55,
   "metadata": {},
   "outputs": [],
   "source": [
    "#找到所有的问题和回答\n",
    "Question = data[data.PostTypeId==1]\n",
    "Answer = data[data.PostTypeId==2]"
   ]
  },
  {
   "cell_type": "code",
   "execution_count": 56,
   "metadata": {},
   "outputs": [],
   "source": [
    "Question =  Question.dropna(subset=[\"OwnerUserId\"])\n",
    "Answer =  Answer.dropna(subset=[\"OwnerUserId\",\"ParentId\"])"
   ]
  },
  {
   "cell_type": "code",
   "execution_count": 5,
   "metadata": {},
   "outputs": [],
   "source": [
    "#所有问题的标签\n",
    "Qid_tags =  {Question.Id[i]:p1.findall(Question.Tags[i]) for i in Question.index}"
   ]
  },
  {
   "cell_type": "code",
   "execution_count": 6,
   "metadata": {},
   "outputs": [],
   "source": [
    "# 所有标签的列表\n",
    "taglist = list(set([t for i in Qid_tags for t in Qid_tags[i]]))\n",
    "dtag = dict(zip(taglist,range(len(taglist))))"
   ]
  },
  {
   "cell_type": "code",
   "execution_count": 9,
   "metadata": {},
   "outputs": [],
   "source": [
    "AnswerUserTag = defaultdict(lambda:defaultdict(lambda: 0))\n",
    "for i in Answer.index:\n",
    "    user = Answer.OwnerUserId[i]\n",
    "    qid = int(Answer.ParentId[i])\n",
    "    for tag in Qid_tags[qid]:\n",
    "        AnswerUserTag[user][tag]+=1\n"
   ]
  },
  {
   "cell_type": "code",
   "execution_count": 11,
   "metadata": {},
   "outputs": [],
   "source": [
    "user_tag = [[user,tag,AnswerUserTag[user][tag]] for user in AnswerUserTag for tag in  AnswerUserTag[user]]"
   ]
  },
  {
   "cell_type": "code",
   "execution_count": 12,
   "metadata": {},
   "outputs": [],
   "source": [
    "x = [a for a,b,c in user_tag]\n",
    "y = [b for a,b,c in user_tag]\n",
    "z = [c for a,b,c in user_tag]"
   ]
  },
  {
   "cell_type": "code",
   "execution_count": 8,
   "metadata": {},
   "outputs": [],
   "source": [
    "def get_dict(lst):\n",
    "    return dict(zip(list(set(lst)),range(len(set(lst)))))"
   ]
  },
  {
   "cell_type": "code",
   "execution_count": 14,
   "metadata": {},
   "outputs": [],
   "source": [
    "dx = get_dict(x)\n",
    "dy = get_dict(y)\n",
    "xlist = [dx[a] for a in x]\n",
    "ylist = [dy[b] for b in y]"
   ]
  },
  {
   "cell_type": "code",
   "execution_count": 15,
   "metadata": {},
   "outputs": [],
   "source": [
    "from scipy import sparse\n",
    "nx,ny=len(dx),len(dy)\n",
    "M = sparse.csc_matrix((z,(xlist,ylist)),shape=(nx,ny))"
   ]
  },
  {
   "cell_type": "code",
   "execution_count": 16,
   "metadata": {},
   "outputs": [
    {
     "name": "stderr",
     "output_type": "stream",
     "text": [
      "/home/hachi/soft/anaconda3/lib/python3.6/site-packages/scipy/sparse/compressed.py:274: SparseEfficiencyWarning: Comparing a sparse matrix with a scalar greater than zero using < is inefficient, try using >= instead.\n",
      "  warn(bad_scalar_msg, SparseEfficiencyWarning)\n"
     ]
    },
    {
     "name": "stdout",
     "output_type": "stream",
     "text": [
      "==Time 5.54==\n",
      "==Time 0.61==\n"
     ]
    }
   ],
   "source": [
    "R = RCA_sparse(M)\n",
    "D = Get_eci_pci_sparse(R)"
   ]
  },
  {
   "cell_type": "code",
   "execution_count": 19,
   "metadata": {
    "scrolled": false
   },
   "outputs": [
    {
     "name": "stderr",
     "output_type": "stream",
     "text": [
      "/home/hachi/soft/anaconda3/lib/python3.6/site-packages/matplotlib/axes/_axes.py:6462: UserWarning: The 'normed' kwarg is deprecated, and has been replaced by the 'density' kwarg.\n",
      "  warnings.warn(\"The 'normed' kwarg is deprecated, and has been \"\n",
      "/home/hachi/soft/anaconda3/lib/python3.6/site-packages/matplotlib/axes/_axes.py:6462: UserWarning: The 'normed' kwarg is deprecated, and has been replaced by the 'density' kwarg.\n",
      "  warnings.warn(\"The 'normed' kwarg is deprecated, and has been \"\n"
     ]
    },
    {
     "data": {
      "image/png": "[encoded data removed]",
      "text/plain": [
       "<Figure size 1080x360 with 2 Axes>"
      ]
     },
     "metadata": {},
     "output_type": "display_data"
    }
   ],
   "source": [
    "import matplotlib.pyplot as plt\n",
    "import seaborn as sns\n",
    "sns.set()\n",
    "plt.figure(figsize=(15,5))\n",
    "plt.subplot(121)\n",
    "sns.distplot(D['eci'],kde=False,color=\"orangered\",)\n",
    "plt.xlabel('Tag ECI',fontsize=20)\n",
    "plt.ylabel('Count',fontsize=20)\n",
    "plt.subplot(122)\n",
    "sns.distplot(D['pci'],kde=False,color=\"blue\",)\n",
    "plt.xlabel('User ECI',fontsize=20)\n",
    "plt.ylabel('Count',fontsize=20)\n",
    "plt.show()"
   ]
  },
  {
   "cell_type": "code",
   "execution_count": 20,
   "metadata": {
    "scrolled": false
   },
   "outputs": [
    {
     "data": {
      "text/plain": [
       "[('quantum-error-correction', 6.463757587406006),\n",
       " ('wightman-fields', 3.1221173276601557),\n",
       " ('affine-lie-algebra', 2.7604364301223114),\n",
       " ('superspace-formalism', 2.5609769899897366),\n",
       " ('hopf-algebra', 2.5479013559563892),\n",
       " ('large-n', 2.5469820986174585),\n",
       " ('algebraic-topology', 2.5359186633548076),\n",
       " ('amplituhedron', 2.5287466772888822),\n",
       " ('sigma-models', 2.509364795728366),\n",
       " ('string-field-theory', 2.5078306313353957),\n",
       " ('calabi-yau', 2.3875774723484313),\n",
       " ('topological-defects', 2.3825007427470193),\n",
       " ('skyrmion', 2.3471149233650976),\n",
       " ('brst', 2.337258295839195),\n",
       " ('research-level', 2.318269948226802),\n",
       " ('chern-simons-theory', 2.295191312877839),\n",
       " ('conformal-field-theory', 2.2712342113573136),\n",
       " ('supersymmetry', 2.259894261726986),\n",
       " ('superconformality', 2.202146681393486),\n",
       " ('non-commutative-geometry', 2.1460540774262284)]"
      ]
     },
     "execution_count": 20,
     "metadata": {},
     "output_type": "execute_result"
    }
   ],
   "source": [
    "res = [(key,D['pci'][dy[key]]) for key in dy]\n",
    "Res = sorted(res,key=lambda  x:x[1],reverse=True)\n",
    "Res[:20]"
   ]
  },
  {
   "cell_type": "code",
   "execution_count": 21,
   "metadata": {},
   "outputs": [
    {
     "data": {
      "text/plain": [
       "[('aircraft', -1.4849019487784325),\n",
       " ('drag', -1.4908179351006456),\n",
       " ('water', -1.4932421937930933),\n",
       " ('humidity', -1.4959362367879152),\n",
       " ('contact-mechanics', -1.5064492044506128),\n",
       " ('lift', -1.5126116773212541),\n",
       " ('bernoulli-equation', -1.519761641215827),\n",
       " ('electricity', -1.5630536315786485),\n",
       " ('electrical-resistance', -1.5664219316478258),\n",
       " ('pressure', -1.5667629124821623),\n",
       " ('everyday-life', -1.569747586758764),\n",
       " ('fluid-dynamics', -1.58655597644066),\n",
       " ('aerodynamics', -1.5993249714654507),\n",
       " ('free-body-diagram', -1.6276451137277257),\n",
       " ('electric-circuits', -1.6570894398813871),\n",
       " ('forces', -1.6647246212371227),\n",
       " ('friction', -1.6655668624242979),\n",
       " ('telescopes', -1.8129050499919719),\n",
       " ('newtonian-mechanics', -1.8295065452467145),\n",
       " ('fracture', -2.0250594259890464)]"
      ]
     },
     "execution_count": 21,
     "metadata": {},
     "output_type": "execute_result"
    }
   ],
   "source": [
    "Res[-20:]"
   ]
  },
  {
   "cell_type": "markdown",
   "metadata": {},
   "source": [
    "# 利用userid-questionid"
   ]
  },
  {
   "cell_type": "code",
   "execution_count": 80,
   "metadata": {},
   "outputs": [],
   "source": [
    "XY = [[int(Answer.OwnerUserId[i]), int(Answer.ParentId[i])] for i in Answer.index]"
   ]
  },
  {
   "cell_type": "code",
   "execution_count": 81,
   "metadata": {},
   "outputs": [],
   "source": [
    "x = [i  for  i,j  in XY]\n",
    "y = [j  for  i,j  in XY]"
   ]
  },
  {
   "cell_type": "code",
   "execution_count": 84,
   "metadata": {},
   "outputs": [],
   "source": [
    "Cx = Counter(x)\n",
    "Cy= Counter(y)"
   ]
  },
  {
   "cell_type": "code",
   "execution_count": 87,
   "metadata": {},
   "outputs": [
    {
     "name": "stderr",
     "output_type": "stream",
     "text": [
      "/home/hachi/soft/anaconda3/lib/python3.6/site-packages/matplotlib/axes/_axes.py:6462: UserWarning: The 'normed' kwarg is deprecated, and has been replaced by the 'density' kwarg.\n",
      "  warnings.warn(\"The 'normed' kwarg is deprecated, and has been \"\n",
      "/home/hachi/soft/anaconda3/lib/python3.6/site-packages/matplotlib/axes/_axes.py:6462: UserWarning: The 'normed' kwarg is deprecated, and has been replaced by the 'density' kwarg.\n",
      "  warnings.warn(\"The 'normed' kwarg is deprecated, and has been \"\n"
     ]
    },
    {
     "data": {
      "text/plain": [
       "<matplotlib.axes._subplots.AxesSubplot at 0x7f7c5b0afdd8>"
      ]
     },
     "execution_count": 87,
     "metadata": {},
     "output_type": "execute_result"
    },
    {
     "data": {
      "image/png": "[encoded data removed]",
      "text/plain": [
       "<Figure size 1080x720 with 2 Axes>"
      ]
     },
     "metadata": {},
     "output_type": "display_data"
    }
   ],
   "source": [
    "plt.figure(figsize=(15,10))\n",
    "plt.subplot(211)\n",
    "sns.distplot(list(Cy.values()))\n",
    "plt.subplot(212)\n",
    "sns.distplot(list(Cx.values()))"
   ]
  },
  {
   "cell_type": "code",
   "execution_count": 102,
   "metadata": {},
   "outputs": [
    {
     "name": "stdout",
     "output_type": "stream",
     "text": [
      "0.99798588303605456\r"
     ]
    }
   ],
   "source": [
    "removex = [i for i in Cx if Cx[i]<=1]\n",
    "removey = [i for i in Cy if Cy[i]<=3]\n",
    "XY2 = []\n",
    "n=0\n",
    "N=len(XY1)\n",
    "for xi,yi in XY1:\n",
    "    if xi not in removex and yi not in removey:\n",
    "        XY2.append([xi,yi])\n",
    "    n+=1\n",
    "    if n%1000==0:\n",
    "        print(n*1.0/N,end='\\r')"
   ]
  },
  {
   "cell_type": "code",
   "execution_count": 103,
   "metadata": {},
   "outputs": [],
   "source": [
    "x = [i  for  i,j  in XY2]\n",
    "y = [j  for  i,j  in XY2]\n",
    "dx = get_dict(x)\n",
    "dy = get_dict(y)\n",
    "xlist = [dx[a] for a in x]\n",
    "ylist = [dy[b] for b in y]"
   ]
  },
  {
   "cell_type": "code",
   "execution_count": 104,
   "metadata": {},
   "outputs": [
    {
     "data": {
      "text/plain": [
       "(4553, 6696)"
      ]
     },
     "execution_count": 104,
     "metadata": {},
     "output_type": "execute_result"
    }
   ],
   "source": [
    "len(dx),len(dy)"
   ]
  },
  {
   "cell_type": "code",
   "execution_count": 105,
   "metadata": {},
   "outputs": [],
   "source": [
    "@timelogger\n",
    "def RCA_sparse(M):\n",
    "    B = sparse.csc_matrix(M.sum(1)*M.sum(0))\n",
    "    Sum = M.sum()\n",
    "    R = sparse.lil_matrix(M*Sum/B)\n",
    "    del B\n",
    "    del Sum\n",
    "    R[R>=1]=1\n",
    "    R[R<1]=0\n",
    "    R = R.tocsc()\n",
    "    return R"
   ]
  },
  {
   "cell_type": "code",
   "execution_count": 106,
   "metadata": {},
   "outputs": [],
   "source": [
    "nx,ny=len(dx),len(dy)\n",
    "M = sparse.csc_matrix(([1.]*len(xlist),(xlist,ylist)),shape=(nx,ny))"
   ]
  },
  {
   "cell_type": "code",
   "execution_count": 107,
   "metadata": {},
   "outputs": [
    {
     "name": "stderr",
     "output_type": "stream",
     "text": [
      "/home/hachi/soft/anaconda3/lib/python3.6/site-packages/scipy/sparse/compressed.py:274: SparseEfficiencyWarning: Comparing a sparse matrix with a scalar greater than zero using < is inefficient, try using >= instead.\n",
      "  warn(bad_scalar_msg, SparseEfficiencyWarning)\n"
     ]
    },
    {
     "name": "stdout",
     "output_type": "stream",
     "text": [
      "==Time 16.88==\n"
     ]
    }
   ],
   "source": [
    "R = RCA_sparse(M)\n",
    "#D = Get_eci_pci_sparse(R)"
   ]
  },
  {
   "cell_type": "code",
   "execution_count": 115,
   "metadata": {},
   "outputs": [
    {
     "name": "stdout",
     "output_type": "stream",
     "text": [
      "==Time 1.48==\n"
     ]
    }
   ],
   "source": [
    "D = Get_eci_pci_sparse(M)"
   ]
  },
  {
   "cell_type": "code",
   "execution_count": 112,
   "metadata": {},
   "outputs": [
    {
     "name": "stderr",
     "output_type": "stream",
     "text": [
      "/home/hachi/soft/anaconda3/lib/python3.6/site-packages/matplotlib/axes/_axes.py:6462: UserWarning: The 'normed' kwarg is deprecated, and has been replaced by the 'density' kwarg.\n",
      "  warnings.warn(\"The 'normed' kwarg is deprecated, and has been \"\n",
      "/home/hachi/soft/anaconda3/lib/python3.6/site-packages/matplotlib/axes/_axes.py:6462: UserWarning: The 'normed' kwarg is deprecated, and has been replaced by the 'density' kwarg.\n",
      "  warnings.warn(\"The 'normed' kwarg is deprecated, and has been \"\n"
     ]
    },
    {
     "data": {
      "image/png": "[encoded data removed]",
      "text/plain": [
       "<Figure size 1080x360 with 2 Axes>"
      ]
     },
     "metadata": {},
     "output_type": "display_data"
    }
   ],
   "source": [
    "import matplotlib.pyplot as plt\n",
    "import seaborn as sns\n",
    "sns.set()\n",
    "plt.figure(figsize=(15,5))\n",
    "plt.subplot(121)\n",
    "sns.distplot(D['eci'],kde=False,color=\"orangered\",)\n",
    "plt.xlabel('Tag ECI',fontsize=20)\n",
    "plt.ylabel('Count',fontsize=20)\n",
    "plt.subplot(122)\n",
    "sns.distplot(D['pci'],kde=False,color=\"blue\",)\n",
    "plt.xlabel('User ECI',fontsize=20)\n",
    "plt.ylabel('Count',fontsize=20)\n",
    "plt.show()"
   ]
  },
  {
   "cell_type": "code",
   "execution_count": 128,
   "metadata": {},
   "outputs": [],
   "source": [
    "SD =  sorted([[i,k]  for i,k in zip(range(len(D['pci'])),D['pci'])],key=lambda x:x[1])"
   ]
  },
  {
   "cell_type": "code",
   "execution_count": 129,
   "metadata": {},
   "outputs": [
    {
     "data": {
      "text/plain": [
       "[[2901, -56.624613014701076],\n",
       " [5714, -13.949542486314687],\n",
       " [576, 0.001703473237245716]]"
      ]
     },
     "execution_count": 129,
     "metadata": {},
     "output_type": "execute_result"
    }
   ],
   "source": [
    "SD[:3]"
   ]
  },
  {
   "cell_type": "code",
   "execution_count": 131,
   "metadata": {},
   "outputs": [
    {
     "data": {
      "text/plain": [
       "[[5415, 0.0017034732375369305],\n",
       " [6579, 1.8002757509241736],\n",
       " [4564, 57.37423684539847]]"
      ]
     },
     "execution_count": 131,
     "metadata": {},
     "output_type": "execute_result"
    }
   ],
   "source": [
    "SD[-3:]"
   ]
  },
  {
   "cell_type": "code",
   "execution_count": 134,
   "metadata": {},
   "outputs": [],
   "source": [
    "qid = [i for i in dy.keys()]\n",
    "qid2 = [dy[i] for i in qid]"
   ]
  },
  {
   "cell_type": "code",
   "execution_count": 136,
   "metadata": {},
   "outputs": [],
   "source": [
    "id2origin=dict(zip(qid2,qid))"
   ]
  },
  {
   "cell_type": "code",
   "execution_count": 137,
   "metadata": {},
   "outputs": [
    {
     "data": {
      "text/plain": [
       "[242126, 27590, 165950]"
      ]
     },
     "execution_count": 137,
     "metadata": {},
     "output_type": "execute_result"
    }
   ],
   "source": [
    "[id2origin[i] for i,j  in SD[:3]]"
   ]
  },
  {
   "cell_type": "code",
   "execution_count": 138,
   "metadata": {},
   "outputs": [
    {
     "data": {
      "text/plain": [
       "[222204, 261603, 86924]"
      ]
     },
     "execution_count": 138,
     "metadata": {},
     "output_type": "execute_result"
    }
   ],
   "source": [
    "[id2origin[i] for i,j  in SD[-3:]]"
   ]
  },
  {
   "cell_type": "code",
   "execution_count": null,
   "metadata": {},
   "outputs": [],
   "source": []
  }
 ],
 "metadata": {
  "kernelspec": {
   "display_name": "Python 3",
   "language": "python",
   "name": "python3"
  },
  "language_info": {
   "codemirror_mode": {
    "name": "ipython",
    "version": 3
   },
   "file_extension": ".py",
   "mimetype": "text/x-python",
   "name": "python",
   "nbconvert_exporter": "python",
   "pygments_lexer": "ipython3",
   "version": "3.6.5"
  }
 },
 "nbformat": 4,
 "nbformat_minor": 2
}

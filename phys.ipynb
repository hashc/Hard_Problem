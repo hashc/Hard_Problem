{
 "cells": [
  {
   "cell_type": "code",
   "execution_count": 1,
   "metadata": {},
   "outputs": [],
   "source": [
    "%load_ext autoreload\n",
    "%autoreload 2\n",
    "import pandas as pd\n",
    "import sys\n",
    "sys.path.append(\"../ComSub\")\n",
    "from ECI  import *\n",
    "import re\n",
    "from collections import defaultdict, Counter\n",
    "p1 = re.compile(r'[<](.*?)[>]', re.S)  #最小匹配"
   ]
  },
  {
   "cell_type": "code",
   "execution_count": 2,
   "metadata": {},
   "outputs": [],
   "source": [
    "import matplotlib.pyplot as plt\n",
    "import seaborn as sns"
   ]
  },
  {
   "cell_type": "code",
   "execution_count": 3,
   "metadata": {},
   "outputs": [],
   "source": [
    "data = pd.read_csv(\"./Posts_phys.csv\")"
   ]
  },
  {
   "cell_type": "code",
   "execution_count": 4,
   "metadata": {},
   "outputs": [
    {
     "data": {
      "text/html": [
       "<div>\n",
       "<style scoped>\n",
       "    .dataframe tbody tr th:only-of-type {\n",
       "        vertical-align: middle;\n",
       "    }\n",
       "\n",
       "    .dataframe tbody tr th {\n",
       "        vertical-align: top;\n",
       "    }\n",
       "\n",
       "    .dataframe thead th {\n",
       "        text-align: right;\n",
       "    }\n",
       "</style>\n",
       "<table border=\"1\" class=\"dataframe\">\n",
       "  <thead>\n",
       "    <tr style=\"text-align: right;\">\n",
       "      <th></th>\n",
       "      <th>PostTypeId</th>\n",
       "      <th>Id</th>\n",
       "      <th>OwnerUserId</th>\n",
       "      <th>CreationDate</th>\n",
       "      <th>AcceptedAnswerId</th>\n",
       "      <th>Tags</th>\n",
       "      <th>ParentId</th>\n",
       "      <th>Score</th>\n",
       "      <th>CommentCount</th>\n",
       "      <th>ViewCount</th>\n",
       "      <th>AnswerCount</th>\n",
       "      <th>FavoriteCount</th>\n",
       "      <th>Title</th>\n",
       "      <th>Body</th>\n",
       "    </tr>\n",
       "  </thead>\n",
       "  <tbody>\n",
       "    <tr>\n",
       "      <th>0</th>\n",
       "      <td>1</td>\n",
       "      <td>1</td>\n",
       "      <td>7.0</td>\n",
       "      <td>2010-11-02T18:59:01.140</td>\n",
       "      <td>5.0</td>\n",
       "      <td>&lt;quantum-mechanics&gt;&lt;particle-physics&gt;&lt;angular-...</td>\n",
       "      <td>NaN</td>\n",
       "      <td>68</td>\n",
       "      <td>5</td>\n",
       "      <td>12383.0</td>\n",
       "      <td>4.0</td>\n",
       "      <td>23.0</td>\n",
       "      <td>What is spin as it relates to subatomic partic...</td>\n",
       "      <td>&lt;p&gt;I often hear about subatomic particles havi...</td>\n",
       "    </tr>\n",
       "    <tr>\n",
       "      <th>1</th>\n",
       "      <td>1</td>\n",
       "      <td>2</td>\n",
       "      <td>23.0</td>\n",
       "      <td>2010-11-02T19:09:48.680</td>\n",
       "      <td>5704.0</td>\n",
       "      <td>&lt;particle-physics&gt;&lt;string-theory&gt;</td>\n",
       "      <td>NaN</td>\n",
       "      <td>27</td>\n",
       "      <td>3</td>\n",
       "      <td>2276.0</td>\n",
       "      <td>4.0</td>\n",
       "      <td>8.0</td>\n",
       "      <td>What is your simplest explanation of the strin...</td>\n",
       "      <td>&lt;p&gt;How would you explain string theory to non ...</td>\n",
       "    </tr>\n",
       "    <tr>\n",
       "      <th>2</th>\n",
       "      <td>1</td>\n",
       "      <td>3</td>\n",
       "      <td>40.0</td>\n",
       "      <td>2010-11-02T19:11:05.857</td>\n",
       "      <td>180.0</td>\n",
       "      <td>&lt;particle-physics&gt;&lt;group-theory&gt;&lt;representatio...</td>\n",
       "      <td>NaN</td>\n",
       "      <td>32</td>\n",
       "      <td>5</td>\n",
       "      <td>2113.0</td>\n",
       "      <td>3.0</td>\n",
       "      <td>12.0</td>\n",
       "      <td>Lie theory, Representations and particle physics</td>\n",
       "      <td>&lt;p&gt;This is a question that has been posted at ...</td>\n",
       "    </tr>\n",
       "    <tr>\n",
       "      <th>3</th>\n",
       "      <td>2</td>\n",
       "      <td>4</td>\n",
       "      <td>20.0</td>\n",
       "      <td>2010-11-02T19:12:26.543</td>\n",
       "      <td>NaN</td>\n",
       "      <td>NaN</td>\n",
       "      <td>1.0</td>\n",
       "      <td>19</td>\n",
       "      <td>2</td>\n",
       "      <td>NaN</td>\n",
       "      <td>NaN</td>\n",
       "      <td>NaN</td>\n",
       "      <td>NaN</td>\n",
       "      <td>&lt;p&gt;Imagine going to the rest frame of a massiv...</td>\n",
       "    </tr>\n",
       "    <tr>\n",
       "      <th>4</th>\n",
       "      <td>2</td>\n",
       "      <td>5</td>\n",
       "      <td>13.0</td>\n",
       "      <td>2010-11-02T19:15:20.813</td>\n",
       "      <td>NaN</td>\n",
       "      <td>NaN</td>\n",
       "      <td>1.0</td>\n",
       "      <td>42</td>\n",
       "      <td>0</td>\n",
       "      <td>NaN</td>\n",
       "      <td>NaN</td>\n",
       "      <td>NaN</td>\n",
       "      <td>NaN</td>\n",
       "      <td>&lt;p&gt;Spin is a technical term specifically refer...</td>\n",
       "    </tr>\n",
       "  </tbody>\n",
       "</table>\n",
       "</div>"
      ],
      "text/plain": [
       "   PostTypeId  Id  OwnerUserId             CreationDate  AcceptedAnswerId  \\\n",
       "0           1   1          7.0  2010-11-02T18:59:01.140               5.0   \n",
       "1           1   2         23.0  2010-11-02T19:09:48.680            5704.0   \n",
       "2           1   3         40.0  2010-11-02T19:11:05.857             180.0   \n",
       "3           2   4         20.0  2010-11-02T19:12:26.543               NaN   \n",
       "4           2   5         13.0  2010-11-02T19:15:20.813               NaN   \n",
       "\n",
       "                                                Tags  ParentId  Score  \\\n",
       "0  <quantum-mechanics><particle-physics><angular-...       NaN     68   \n",
       "1                  <particle-physics><string-theory>       NaN     27   \n",
       "2  <particle-physics><group-theory><representatio...       NaN     32   \n",
       "3                                                NaN       1.0     19   \n",
       "4                                                NaN       1.0     42   \n",
       "\n",
       "   CommentCount  ViewCount  AnswerCount  FavoriteCount  \\\n",
       "0             5    12383.0          4.0           23.0   \n",
       "1             3     2276.0          4.0            8.0   \n",
       "2             5     2113.0          3.0           12.0   \n",
       "3             2        NaN          NaN            NaN   \n",
       "4             0        NaN          NaN            NaN   \n",
       "\n",
       "                                               Title  \\\n",
       "0  What is spin as it relates to subatomic partic...   \n",
       "1  What is your simplest explanation of the strin...   \n",
       "2   Lie theory, Representations and particle physics   \n",
       "3                                                NaN   \n",
       "4                                                NaN   \n",
       "\n",
       "                                                Body  \n",
       "0  <p>I often hear about subatomic particles havi...  \n",
       "1  <p>How would you explain string theory to non ...  \n",
       "2  <p>This is a question that has been posted at ...  \n",
       "3  <p>Imagine going to the rest frame of a massiv...  \n",
       "4  <p>Spin is a technical term specifically refer...  "
      ]
     },
     "execution_count": 4,
     "metadata": {},
     "output_type": "execute_result"
    }
   ],
   "source": [
    "data.head()"
   ]
  },
  {
   "cell_type": "markdown",
   "metadata": {},
   "source": [
    "存在的关系\n",
    "- 提问者-问题 \n",
    "- 回答者-问题\n",
    "- 回答者-tag的关系"
   ]
  },
  {
   "cell_type": "code",
   "execution_count": 5,
   "metadata": {},
   "outputs": [],
   "source": [
    "#找到所有的问题和回答\n",
    "Question = data[data.PostTypeId==1]\n",
    "Answer = data[data.PostTypeId==2]"
   ]
  },
  {
   "cell_type": "code",
   "execution_count": 6,
   "metadata": {},
   "outputs": [],
   "source": [
    "Question =  Question.dropna(subset=[\"OwnerUserId\"])\n",
    "Answer =  Answer.dropna(subset=[\"OwnerUserId\",\"ParentId\"])"
   ]
  },
  {
   "cell_type": "code",
   "execution_count": 10,
   "metadata": {},
   "outputs": [],
   "source": [
    "#所有问题的标签\n",
    "Qid_tags =  {Question.Id[i]:p1.findall(Question.Tags[i]) for i in Question.index}"
   ]
  },
  {
   "cell_type": "code",
   "execution_count": 8,
   "metadata": {},
   "outputs": [],
   "source": [
    "# 所有标签的列表\n",
    "taglist = list(set([t for i in Qid_tags for t in Qid_tags[i]]))\n",
    "dtag = dict(zip(taglist,range(len(taglist))))"
   ]
  },
  {
   "cell_type": "code",
   "execution_count": 13,
   "metadata": {},
   "outputs": [
    {
     "data": {
      "text/plain": [
       "214"
      ]
     },
     "execution_count": 13,
     "metadata": {},
     "output_type": "execute_result"
    }
   ],
   "source": [
    "qid"
   ]
  },
  {
   "cell_type": "code",
   "execution_count": 14,
   "metadata": {},
   "outputs": [],
   "source": [
    "AnswerUserTag = defaultdict(lambda:defaultdict(lambda: 0))\n",
    "for i in Answer.index:\n",
    "    user = Answer.OwnerUserId[i]\n",
    "    qid = int(Answer.ParentId[i])\n",
    "    if qid in Qid_tags:\n",
    "        for tag in Qid_tags[qid]:\n",
    "            AnswerUserTag[user][tag]+=1\n"
   ]
  },
  {
   "cell_type": "code",
   "execution_count": 15,
   "metadata": {},
   "outputs": [],
   "source": [
    "user_tag = [[user,tag,AnswerUserTag[user][tag]] for user in AnswerUserTag for tag in  AnswerUserTag[user]]"
   ]
  },
  {
   "cell_type": "code",
   "execution_count": 16,
   "metadata": {},
   "outputs": [],
   "source": [
    "x = [a for a,b,c in user_tag]\n",
    "y = [b for a,b,c in user_tag]\n",
    "z = [c for a,b,c in user_tag]"
   ]
  },
  {
   "cell_type": "code",
   "execution_count": 17,
   "metadata": {},
   "outputs": [],
   "source": [
    "def get_dict(lst):\n",
    "    return dict(zip(list(set(lst)),range(len(set(lst)))))\n",
    "\n"
   ]
  },
  {
   "cell_type": "code",
   "execution_count": 18,
   "metadata": {},
   "outputs": [],
   "source": [
    "dx = get_dict(x)\n",
    "dy = get_dict(y)\n",
    "xlist = [dx[a] for a in x]\n",
    "ylist = [dy[b] for b in y]"
   ]
  },
  {
   "cell_type": "code",
   "execution_count": 19,
   "metadata": {},
   "outputs": [],
   "source": [
    "from scipy import sparse\n",
    "nx,ny=len(dx),len(dy)\n",
    "M = sparse.csc_matrix((z,(xlist,ylist)),shape=(nx,ny))"
   ]
  },
  {
   "cell_type": "code",
   "execution_count": 126,
   "metadata": {},
   "outputs": [
    {
     "name": "stdout",
     "output_type": "stream",
     "text": [
      "==Time 4.81==\n",
      "==Time 1.11==\n"
     ]
    }
   ],
   "source": [
    "R = RCA_sparse(M)\n",
    "D = Get_eci_pci_sparse(R)"
   ]
  },
  {
   "cell_type": "code",
   "execution_count": 21,
   "metadata": {
    "scrolled": false
   },
   "outputs": [
    {
     "data": {
      "image/png": "[encoded data removed]",
      "text/plain": [
       "<Figure size 1080x360 with 2 Axes>"
      ]
     },
     "metadata": {},
     "output_type": "display_data"
    }
   ],
   "source": [
    "import matplotlib.pyplot as plt\n",
    "import seaborn as sns\n",
    "sns.set()\n",
    "plt.figure(figsize=(15,5))\n",
    "plt.subplot(121)\n",
    "sns.distplot(D['eci'],kde=False,color=\"orangered\",)\n",
    "plt.xlabel('Tag ECI',fontsize=20)\n",
    "plt.ylabel('Count',fontsize=20)\n",
    "plt.subplot(122)\n",
    "sns.distplot(D['pci'],kde=False,color=\"blue\",)\n",
    "plt.xlabel('User ECI',fontsize=20)\n",
    "plt.ylabel('Count',fontsize=20)\n",
    "plt.show()"
   ]
  },
  {
   "cell_type": "code",
   "execution_count": 22,
   "metadata": {
    "scrolled": false
   },
   "outputs": [
    {
     "data": {
      "text/plain": [
       "[('quantum-error-correction', 7.553216916149848),\n",
       " ('affine-lie-algebra', 2.842143689317641),\n",
       " ('superspace-formalism', 2.726609441356291),\n",
       " ('large-n', 2.6706855675306125),\n",
       " ('algebraic-topology', 2.660627782357994),\n",
       " ('amplituhedron', 2.591626865758314),\n",
       " ('sigma-models', 2.544280324490543),\n",
       " ('brst', 2.5326251829366355),\n",
       " ('topological-defects', 2.523704399259207),\n",
       " ('skyrmion', 2.4919753597065255),\n",
       " ('hopf-algebra', 2.3265148653033103),\n",
       " ('ghosts', 2.2978246073683906),\n",
       " ('wightman-fields', 2.2302991654454236),\n",
       " ('non-commutative-theory', 2.1846911013098613),\n",
       " ('spin-liquid', 2.154246206988117),\n",
       " ('spin-ice', 2.1542462069881156),\n",
       " ('string-field-theory', 2.137490330329409),\n",
       " ('superconformality', 2.1194725032270902),\n",
       " ('calabi-yau', 2.10606320245794),\n",
       " ('chern-simons-theory', 2.097715138242211)]"
      ]
     },
     "execution_count": 22,
     "metadata": {},
     "output_type": "execute_result"
    }
   ],
   "source": [
    "res = [(key,D['pci'][dy[key]]) for key in dy]\n",
    "Res = sorted(res,key=lambda  x:x[1],reverse=True)\n",
    "Res[:20]"
   ]
  },
  {
   "cell_type": "code",
   "execution_count": 23,
   "metadata": {},
   "outputs": [
    {
     "data": {
      "text/plain": [
       "[('torque', -1.5159482303978797),\n",
       " ('lift', -1.52122132263421),\n",
       " ('electric-current', -1.5234472891187467),\n",
       " ('drag', -1.5333075958683775),\n",
       " ('building-physics', -1.5353283967085138),\n",
       " ('bernoulli-equation', -1.547977658670442),\n",
       " ('water', -1.54974650774621),\n",
       " ('contact-mechanics', -1.5911919976515545),\n",
       " ('aerodynamics', -1.6048213458595282),\n",
       " ('pressure', -1.6068651671468106),\n",
       " ('everyday-life', -1.6183821914077023),\n",
       " ('electricity', -1.6204428466849248),\n",
       " ('fluid-dynamics', -1.6272143583040595),\n",
       " ('electrical-resistance', -1.6478579849423507),\n",
       " ('free-body-diagram', -1.7140645810376824),\n",
       " ('electric-circuits', -1.725840361920602),\n",
       " ('friction', -1.7425325061359553),\n",
       " ('forces', -1.7447886344267305),\n",
       " ('newtonian-mechanics', -1.9127545773956525),\n",
       " ('fracture', -2.1970662024449745)]"
      ]
     },
     "execution_count": 23,
     "metadata": {},
     "output_type": "execute_result"
    }
   ],
   "source": [
    "Res[-20:]"
   ]
  },
  {
   "cell_type": "markdown",
   "metadata": {},
   "source": [
    "# 利用userid-questionid"
   ]
  },
  {
   "cell_type": "code",
   "execution_count": 127,
   "metadata": {},
   "outputs": [],
   "source": [
    "XY = [[int(Answer.OwnerUserId[i]), int(Answer.ParentId[i])] for i in Answer.index]"
   ]
  },
  {
   "cell_type": "code",
   "execution_count": 128,
   "metadata": {},
   "outputs": [],
   "source": [
    "x = [i  for  i,j  in XY]\n",
    "y = [j  for  i,j  in XY]"
   ]
  },
  {
   "cell_type": "code",
   "execution_count": 129,
   "metadata": {},
   "outputs": [],
   "source": [
    "Cx = Counter(x)\n",
    "Cy= Counter(y)"
   ]
  },
  {
   "cell_type": "code",
   "execution_count": 130,
   "metadata": {},
   "outputs": [
    {
     "data": {
      "text/plain": [
       "<matplotlib.axes._subplots.AxesSubplot at 0x7efcc051ae10>"
      ]
     },
     "execution_count": 130,
     "metadata": {},
     "output_type": "execute_result"
    },
    {
     "data": {
      "image/png": "[encoded data removed]",
      "text/plain": [
       "<Figure size 1080x720 with 2 Axes>"
      ]
     },
     "metadata": {},
     "output_type": "display_data"
    }
   ],
   "source": [
    "plt.figure(figsize=(15,10))\n",
    "plt.subplot(211)\n",
    "sns.distplot(list(Cy.values()))\n",
    "plt.subplot(212)\n",
    "sns.distplot(list(Cx.values()))"
   ]
  },
  {
   "cell_type": "code",
   "execution_count": 131,
   "metadata": {},
   "outputs": [
    {
     "name": "stdout",
     "output_type": "stream",
     "text": [
      "0.997033366975563666\r"
     ]
    }
   ],
   "source": [
    "removex = [i for i in Cx if Cx[i]<=1]\n",
    "removey = [i for i in Cy if Cy[i]<=3]\n",
    "XY1 = []\n",
    "n=0\n",
    "N=len(XY)\n",
    "for xi,yi in XY:\n",
    "    if xi not in removex and yi not in removey:\n",
    "        XY1.append([xi,yi])\n",
    "    n+=1\n",
    "    if n%1000==0:\n",
    "        print(n*1.0/N,end='\\r')"
   ]
  },
  {
   "cell_type": "code",
   "execution_count": 132,
   "metadata": {},
   "outputs": [],
   "source": [
    "x = [i  for  i,j  in XY1]\n",
    "y = [j  for  i,j  in XY1]\n",
    "dx = get_dict(x)\n",
    "dy = get_dict(y)\n",
    "xlist = [dx[a] for a in x]\n",
    "ylist = [dy[b] for b in y]"
   ]
  },
  {
   "cell_type": "code",
   "execution_count": 133,
   "metadata": {},
   "outputs": [
    {
     "data": {
      "text/plain": [
       "(4553, 6696)"
      ]
     },
     "execution_count": 133,
     "metadata": {},
     "output_type": "execute_result"
    }
   ],
   "source": [
    "len(dx),len(dy)"
   ]
  },
  {
   "cell_type": "code",
   "execution_count": 105,
   "metadata": {},
   "outputs": [],
   "source": [
    "@timelogger\n",
    "def RCA_sparse(M):\n",
    "    B = sparse.csc_matrix(M.sum(1)*M.sum(0))\n",
    "    Sum = M.sum()\n",
    "    R = sparse.lil_matrix(M*Sum/B)\n",
    "    del B\n",
    "    del Sum\n",
    "    R[R>=1]=1\n",
    "    R[R<1]=0\n",
    "    R = R.tocsc()\n",
    "    return R"
   ]
  },
  {
   "cell_type": "code",
   "execution_count": 134,
   "metadata": {},
   "outputs": [],
   "source": [
    "nx,ny=len(dx),len(dy)\n",
    "M = sparse.csc_matrix(([1.]*len(xlist),(xlist,ylist)),shape=(nx,ny))"
   ]
  },
  {
   "cell_type": "code",
   "execution_count": 108,
   "metadata": {},
   "outputs": [
    {
     "name": "stderr",
     "output_type": "stream",
     "text": [
      "/home/superman/anaconda3/lib/python3.7/site-packages/scipy/sparse/compressed.py:282: SparseEfficiencyWarning: Comparing a sparse matrix with a scalar greater than zero using < is inefficient, try using >= instead.\n",
      "  warn(bad_scalar_msg, SparseEfficiencyWarning)\n"
     ]
    },
    {
     "name": "stdout",
     "output_type": "stream",
     "text": [
      "==Time 4.77==\n"
     ]
    }
   ],
   "source": [
    "R = RCA_sparse(M)\n",
    "#D = Get_eci_pci_sparse(R)"
   ]
  },
  {
   "cell_type": "code",
   "execution_count": 135,
   "metadata": {},
   "outputs": [
    {
     "name": "stdout",
     "output_type": "stream",
     "text": [
      "==Time 1.03==\n"
     ]
    }
   ],
   "source": [
    "D = Get_eci_pci_sparse(M)"
   ]
  },
  {
   "cell_type": "code",
   "execution_count": 73,
   "metadata": {},
   "outputs": [
    {
     "data": {
      "image/png": "[encoded data removed]",
      "text/plain": [
       "<Figure size 1080x360 with 2 Axes>"
      ]
     },
     "metadata": {},
     "output_type": "display_data"
    }
   ],
   "source": [
    "import matplotlib.pyplot as plt\n",
    "import seaborn as sns\n",
    "sns.set()\n",
    "plt.figure(figsize=(15,5))\n",
    "plt.subplot(121)\n",
    "sns.distplot(D['eci'],kde=False,color=\"orangered\",)\n",
    "plt.xlabel('Tag ECI',fontsize=20)\n",
    "plt.ylabel('Count',fontsize=20)\n",
    "plt.subplot(122)\n",
    "sns.distplot(D['pci'],kde=False,color=\"blue\",)\n",
    "plt.xlabel('User ECI',fontsize=20)\n",
    "plt.ylabel('Count',fontsize=20)\n",
    "plt.show()"
   ]
  },
  {
   "cell_type": "code",
   "execution_count": 136,
   "metadata": {},
   "outputs": [],
   "source": [
    "SD =  sorted([[i,k]  for i,k in zip(range(len(D['pci'])),D['pci'])],key=lambda x:x[1],reverse=True)"
   ]
  },
  {
   "cell_type": "code",
   "execution_count": 137,
   "metadata": {},
   "outputs": [],
   "source": [
    "qid = [i for i in dy.keys()]\n",
    "qid2 = [dy[i] for i in qid]"
   ]
  },
  {
   "cell_type": "code",
   "execution_count": 138,
   "metadata": {},
   "outputs": [],
   "source": [
    "id2origin=dict(zip(qid2,qid))"
   ]
  },
  {
   "cell_type": "code",
   "execution_count": 139,
   "metadata": {},
   "outputs": [
    {
     "data": {
      "text/plain": [
       "[[27590, 53.061662115951364],\n",
       " [242126, 18.762171383949838],\n",
       " [95259, 0.0012325240683133667],\n",
       " [13466, 0.001232524068074649],\n",
       " [29985, 0.001232524068067608],\n",
       " [212986, 0.0012325240680553426]]"
      ]
     },
     "execution_count": 139,
     "metadata": {},
     "output_type": "execute_result"
    }
   ],
   "source": [
    "[[id2origin[i],j] for i,j  in SD[:6]]"
   ]
  },
  {
   "cell_type": "code",
   "execution_count": 140,
   "metadata": {},
   "outputs": [
    {
     "data": {
      "text/plain": [
       "[[321957, 0.0012325240679892469],\n",
       " [103099, 0.001232524067970849],\n",
       " [296904, 0.001232524067941776],\n",
       " [165950, 0.001232524067901119],\n",
       " [86924, -27.334024635307326],\n",
       " [261603, -52.73785992782478]]"
      ]
     },
     "execution_count": 140,
     "metadata": {},
     "output_type": "execute_result"
    }
   ],
   "source": [
    "[[id2origin[i],j] for i,j  in SD[-6:]]"
   ]
  },
  {
   "cell_type": "code",
   "execution_count": 121,
   "metadata": {},
   "outputs": [
    {
     "data": {
      "text/html": [
       "<div>\n",
       "<style scoped>\n",
       "    .dataframe tbody tr th:only-of-type {\n",
       "        vertical-align: middle;\n",
       "    }\n",
       "\n",
       "    .dataframe tbody tr th {\n",
       "        vertical-align: top;\n",
       "    }\n",
       "\n",
       "    .dataframe thead th {\n",
       "        text-align: right;\n",
       "    }\n",
       "</style>\n",
       "<table border=\"1\" class=\"dataframe\">\n",
       "  <thead>\n",
       "    <tr style=\"text-align: right;\">\n",
       "      <th></th>\n",
       "      <th>PostTypeId</th>\n",
       "      <th>Id</th>\n",
       "      <th>OwnerUserId</th>\n",
       "      <th>CreationDate</th>\n",
       "      <th>AcceptedAnswerId</th>\n",
       "      <th>Tags</th>\n",
       "      <th>ParentId</th>\n",
       "      <th>Score</th>\n",
       "      <th>CommentCount</th>\n",
       "      <th>ViewCount</th>\n",
       "      <th>AnswerCount</th>\n",
       "      <th>FavoriteCount</th>\n",
       "      <th>Title</th>\n",
       "      <th>Body</th>\n",
       "    </tr>\n",
       "  </thead>\n",
       "  <tbody>\n",
       "    <tr>\n",
       "      <th>189433</th>\n",
       "      <td>1</td>\n",
       "      <td>261603</td>\n",
       "      <td>120609.0</td>\n",
       "      <td>2016-06-09T07:56:23.097</td>\n",
       "      <td>261610.0</td>\n",
       "      <td>&lt;kinematics&gt;&lt;integration&gt;&lt;differentiation&gt;&lt;cal...</td>\n",
       "      <td>NaN</td>\n",
       "      <td>1</td>\n",
       "      <td>0</td>\n",
       "      <td>609.0</td>\n",
       "      <td>4.0</td>\n",
       "      <td>NaN</td>\n",
       "      <td>Area under and slope of the motion graphs</td>\n",
       "      <td>&lt;p&gt;I wanted to ask in general what area under ...</td>\n",
       "    </tr>\n",
       "  </tbody>\n",
       "</table>\n",
       "</div>"
      ],
      "text/plain": [
       "        PostTypeId      Id  OwnerUserId             CreationDate  \\\n",
       "189433           1  261603     120609.0  2016-06-09T07:56:23.097   \n",
       "\n",
       "        AcceptedAnswerId                                               Tags  \\\n",
       "189433          261610.0  <kinematics><integration><differentiation><cal...   \n",
       "\n",
       "        ParentId  Score  CommentCount  ViewCount  AnswerCount  FavoriteCount  \\\n",
       "189433       NaN      1             0      609.0          4.0            NaN   \n",
       "\n",
       "                                            Title  \\\n",
       "189433  Area under and slope of the motion graphs   \n",
       "\n",
       "                                                     Body  \n",
       "189433  <p>I wanted to ask in general what area under ...  "
      ]
     },
     "execution_count": 121,
     "metadata": {},
     "output_type": "execute_result"
    }
   ],
   "source": [
    "data.loc[data['Id']==261603]"
   ]
  },
  {
   "cell_type": "code",
   "execution_count": null,
   "metadata": {},
   "outputs": [],
   "source": [
    "data.loc[data['Id']==27590]"
   ]
  }
 ],
 "metadata": {
  "kernelspec": {
   "display_name": "Python 3",
   "language": "python",
   "name": "python3"
  },
  "language_info": {
   "codemirror_mode": {
    "name": "ipython",
    "version": 3
   },
   "file_extension": ".py",
   "mimetype": "text/x-python",
   "name": "python",
   "nbconvert_exporter": "python",
   "pygments_lexer": "ipython3",
   "version": "3.7.3"
  }
 },
 "nbformat": 4,
 "nbformat_minor": 2
}

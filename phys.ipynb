{
 "cells": [
  {
   "cell_type": "code",
   "execution_count": 1,
   "metadata": {},
   "outputs": [],
   "source": [
    "%load_ext autoreload\n",
    "%autoreload 2\n",
    "import pandas as pd\n",
    "import sys\n",
    "sys.path.append(\"../ComSub\")\n",
    "from ECI  import *\n",
    "import re\n",
    "from collections import defaultdict, Counter\n",
    "from datetime import datetime as dt\n",
    "p1 = re.compile(r'[<](.*?)[>]', re.S)  #最小匹配"
   ]
  },
  {
   "cell_type": "code",
   "execution_count": 2,
   "metadata": {},
   "outputs": [],
   "source": [
    "import matplotlib.pyplot as plt\n",
    "import seaborn as sns\n",
    "\n",
    "def get_dict(lst):\n",
    "    return dict(zip(list(set(lst)),range(len(set(lst)))))"
   ]
  },
  {
   "cell_type": "code",
   "execution_count": 389,
   "metadata": {},
   "outputs": [],
   "source": [
    "data = pd.read_csv(\"./Posts_phys_wt.csv\")\n",
    "# wt = []\n",
    "# nan  = data.AcceptedAnswerId[7]\n",
    "# for i in data.index:\n",
    "#     if data.PostTypeId[i]==1 and not np.isnan(data.AcceptedAnswerId[i]):\n",
    "#         time1 = data.CreationDate[i][:-4]\n",
    "#         time2 = list(data[data.Id==data.AcceptedAnswerId[i]].CreationDate)[0][:-4]\n",
    "#         delta = dt.strptime(time2,'%Y-%m-%dT%H:%M:%S')-dt.strptime(time1,'%Y-%m-%dT%H:%M:%S')\n",
    "#         delta = int(delta.seconds/60)\n",
    "#     else:\n",
    "#         delta = np.NaN\n",
    "#     wt.append(delta)\n",
    "# data['WaitingTime']=wt\n",
    "# data.to_csv (\"./Posts_phys_wt.csv\", index = None, header=True)"
   ]
  },
  {
   "cell_type": "code",
   "execution_count": 390,
   "metadata": {
    "scrolled": false
   },
   "outputs": [
    {
     "data": {
      "text/html": [
       "<div>\n",
       "<style scoped>\n",
       "    .dataframe tbody tr th:only-of-type {\n",
       "        vertical-align: middle;\n",
       "    }\n",
       "\n",
       "    .dataframe tbody tr th {\n",
       "        vertical-align: top;\n",
       "    }\n",
       "\n",
       "    .dataframe thead th {\n",
       "        text-align: right;\n",
       "    }\n",
       "</style>\n",
       "<table border=\"1\" class=\"dataframe\">\n",
       "  <thead>\n",
       "    <tr style=\"text-align: right;\">\n",
       "      <th></th>\n",
       "      <th>PostTypeId</th>\n",
       "      <th>Id</th>\n",
       "      <th>OwnerUserId</th>\n",
       "      <th>CreationDate</th>\n",
       "      <th>AcceptedAnswerId</th>\n",
       "      <th>Tags</th>\n",
       "      <th>ParentId</th>\n",
       "      <th>Score</th>\n",
       "      <th>CommentCount</th>\n",
       "      <th>ViewCount</th>\n",
       "      <th>AnswerCount</th>\n",
       "      <th>FavoriteCount</th>\n",
       "      <th>Title</th>\n",
       "      <th>Body</th>\n",
       "      <th>WaitingTime</th>\n",
       "    </tr>\n",
       "  </thead>\n",
       "  <tbody>\n",
       "    <tr>\n",
       "      <th>0</th>\n",
       "      <td>1</td>\n",
       "      <td>1</td>\n",
       "      <td>7.0</td>\n",
       "      <td>2010-11-02T18:59:01.140</td>\n",
       "      <td>5.0</td>\n",
       "      <td>&lt;quantum-mechanics&gt;&lt;particle-physics&gt;&lt;angular-...</td>\n",
       "      <td>NaN</td>\n",
       "      <td>68</td>\n",
       "      <td>5</td>\n",
       "      <td>12383.0</td>\n",
       "      <td>4.0</td>\n",
       "      <td>23.0</td>\n",
       "      <td>What is spin as it relates to subatomic partic...</td>\n",
       "      <td>&lt;p&gt;I often hear about subatomic particles havi...</td>\n",
       "      <td>16.0</td>\n",
       "    </tr>\n",
       "    <tr>\n",
       "      <th>1</th>\n",
       "      <td>1</td>\n",
       "      <td>2</td>\n",
       "      <td>23.0</td>\n",
       "      <td>2010-11-02T19:09:48.680</td>\n",
       "      <td>5704.0</td>\n",
       "      <td>&lt;particle-physics&gt;&lt;string-theory&gt;</td>\n",
       "      <td>NaN</td>\n",
       "      <td>27</td>\n",
       "      <td>3</td>\n",
       "      <td>2276.0</td>\n",
       "      <td>4.0</td>\n",
       "      <td>8.0</td>\n",
       "      <td>What is your simplest explanation of the strin...</td>\n",
       "      <td>&lt;p&gt;How would you explain string theory to non ...</td>\n",
       "      <td>804.0</td>\n",
       "    </tr>\n",
       "    <tr>\n",
       "      <th>2</th>\n",
       "      <td>1</td>\n",
       "      <td>3</td>\n",
       "      <td>40.0</td>\n",
       "      <td>2010-11-02T19:11:05.857</td>\n",
       "      <td>180.0</td>\n",
       "      <td>&lt;particle-physics&gt;&lt;group-theory&gt;&lt;representatio...</td>\n",
       "      <td>NaN</td>\n",
       "      <td>32</td>\n",
       "      <td>5</td>\n",
       "      <td>2113.0</td>\n",
       "      <td>3.0</td>\n",
       "      <td>12.0</td>\n",
       "      <td>Lie theory, Representations and particle physics</td>\n",
       "      <td>&lt;p&gt;This is a question that has been posted at ...</td>\n",
       "      <td>120.0</td>\n",
       "    </tr>\n",
       "    <tr>\n",
       "      <th>3</th>\n",
       "      <td>2</td>\n",
       "      <td>4</td>\n",
       "      <td>20.0</td>\n",
       "      <td>2010-11-02T19:12:26.543</td>\n",
       "      <td>NaN</td>\n",
       "      <td>NaN</td>\n",
       "      <td>1.0</td>\n",
       "      <td>19</td>\n",
       "      <td>2</td>\n",
       "      <td>NaN</td>\n",
       "      <td>NaN</td>\n",
       "      <td>NaN</td>\n",
       "      <td>NaN</td>\n",
       "      <td>&lt;p&gt;Imagine going to the rest frame of a massiv...</td>\n",
       "      <td>NaN</td>\n",
       "    </tr>\n",
       "    <tr>\n",
       "      <th>4</th>\n",
       "      <td>2</td>\n",
       "      <td>5</td>\n",
       "      <td>13.0</td>\n",
       "      <td>2010-11-02T19:15:20.813</td>\n",
       "      <td>NaN</td>\n",
       "      <td>NaN</td>\n",
       "      <td>1.0</td>\n",
       "      <td>42</td>\n",
       "      <td>0</td>\n",
       "      <td>NaN</td>\n",
       "      <td>NaN</td>\n",
       "      <td>NaN</td>\n",
       "      <td>NaN</td>\n",
       "      <td>&lt;p&gt;Spin is a technical term specifically refer...</td>\n",
       "      <td>NaN</td>\n",
       "    </tr>\n",
       "  </tbody>\n",
       "</table>\n",
       "</div>"
      ],
      "text/plain": [
       "   PostTypeId  Id  OwnerUserId             CreationDate  AcceptedAnswerId  \\\n",
       "0           1   1          7.0  2010-11-02T18:59:01.140               5.0   \n",
       "1           1   2         23.0  2010-11-02T19:09:48.680            5704.0   \n",
       "2           1   3         40.0  2010-11-02T19:11:05.857             180.0   \n",
       "3           2   4         20.0  2010-11-02T19:12:26.543               NaN   \n",
       "4           2   5         13.0  2010-11-02T19:15:20.813               NaN   \n",
       "\n",
       "                                                Tags  ParentId  Score  \\\n",
       "0  <quantum-mechanics><particle-physics><angular-...       NaN     68   \n",
       "1                  <particle-physics><string-theory>       NaN     27   \n",
       "2  <particle-physics><group-theory><representatio...       NaN     32   \n",
       "3                                                NaN       1.0     19   \n",
       "4                                                NaN       1.0     42   \n",
       "\n",
       "   CommentCount  ViewCount  AnswerCount  FavoriteCount  \\\n",
       "0             5    12383.0          4.0           23.0   \n",
       "1             3     2276.0          4.0            8.0   \n",
       "2             5     2113.0          3.0           12.0   \n",
       "3             2        NaN          NaN            NaN   \n",
       "4             0        NaN          NaN            NaN   \n",
       "\n",
       "                                               Title  \\\n",
       "0  What is spin as it relates to subatomic partic...   \n",
       "1  What is your simplest explanation of the strin...   \n",
       "2   Lie theory, Representations and particle physics   \n",
       "3                                                NaN   \n",
       "4                                                NaN   \n",
       "\n",
       "                                                Body  WaitingTime  \n",
       "0  <p>I often hear about subatomic particles havi...         16.0  \n",
       "1  <p>How would you explain string theory to non ...        804.0  \n",
       "2  <p>This is a question that has been posted at ...        120.0  \n",
       "3  <p>Imagine going to the rest frame of a massiv...          NaN  \n",
       "4  <p>Spin is a technical term specifically refer...          NaN  "
      ]
     },
     "execution_count": 390,
     "metadata": {},
     "output_type": "execute_result"
    }
   ],
   "source": [
    "data.head()"
   ]
  },
  {
   "cell_type": "markdown",
   "metadata": {},
   "source": [
    "存在的关系\n",
    "- 提问者-问题 \n",
    "- 回答者-问题\n",
    "- 回答者-tag的关系"
   ]
  },
  {
   "cell_type": "code",
   "execution_count": 391,
   "metadata": {},
   "outputs": [],
   "source": [
    "#找到所有的问题和回答\n",
    "Question = data[data.PostTypeId==1]\n",
    "Answer = data[data.PostTypeId==2]"
   ]
  },
  {
   "cell_type": "code",
   "execution_count": 143,
   "metadata": {},
   "outputs": [],
   "source": [
    "#所有问题的标签\n",
    "Qid_tags =  {Question.Id[i]:p1.findall(Question.Tags[i]) for i in Question.index}"
   ]
  },
  {
   "cell_type": "code",
   "execution_count": 144,
   "metadata": {},
   "outputs": [],
   "source": [
    "# 所有标签的列表\n",
    "taglist = list(set([t for i in Qid_tags for t in Qid_tags[i]]))\n",
    "dtag = dict(zip(taglist,range(len(taglist))))"
   ]
  },
  {
   "cell_type": "code",
   "execution_count": 146,
   "metadata": {},
   "outputs": [],
   "source": [
    "AnswerUserTag = defaultdict(lambda:defaultdict(lambda: 0))\n",
    "for i in Answer.index:\n",
    "    user = Answer.OwnerUserId[i]\n",
    "    qid = int(Answer.ParentId[i])\n",
    "    if qid in Qid_tags:\n",
    "        for tag in Qid_tags[qid]:\n",
    "            AnswerUserTag[user][tag]+=1\n"
   ]
  },
  {
   "cell_type": "code",
   "execution_count": 147,
   "metadata": {},
   "outputs": [],
   "source": [
    "user_tag = [[user,tag,AnswerUserTag[user][tag]] for user in AnswerUserTag for tag in  AnswerUserTag[user]]"
   ]
  },
  {
   "cell_type": "code",
   "execution_count": 148,
   "metadata": {},
   "outputs": [],
   "source": [
    "x = [a for a,b,c in user_tag]\n",
    "y = [b for a,b,c in user_tag]\n",
    "z = [c for a,b,c in user_tag]"
   ]
  },
  {
   "cell_type": "code",
   "execution_count": 150,
   "metadata": {},
   "outputs": [],
   "source": [
    "dx = get_dict(x)\n",
    "dy = get_dict(y)\n",
    "xlist = [dx[a] for a in x]\n",
    "ylist = [dy[b] for b in y]"
   ]
  },
  {
   "cell_type": "code",
   "execution_count": 151,
   "metadata": {},
   "outputs": [],
   "source": [
    "from scipy import sparse\n",
    "nx,ny=len(dx),len(dy)\n",
    "M = sparse.csc_matrix((z,(xlist,ylist)),shape=(nx,ny))"
   ]
  },
  {
   "cell_type": "code",
   "execution_count": 152,
   "metadata": {},
   "outputs": [
    {
     "name": "stdout",
     "output_type": "stream",
     "text": [
      "==Time 3.73==\n",
      "==Time 0.14==\n"
     ]
    }
   ],
   "source": [
    "R = RCA_sparse(M)\n",
    "D = Get_eci_pci_sparse(R)"
   ]
  },
  {
   "cell_type": "code",
   "execution_count": 153,
   "metadata": {
    "scrolled": true
   },
   "outputs": [
    {
     "data": {
      "image/png": "[encoded data removed]",
      "text/plain": [
       "<Figure size 1080x360 with 2 Axes>"
      ]
     },
     "metadata": {},
     "output_type": "display_data"
    }
   ],
   "source": [
    "import matplotlib.pyplot as plt\n",
    "import seaborn as sns\n",
    "sns.set()\n",
    "plt.figure(figsize=(15,5))\n",
    "plt.subplot(121)\n",
    "sns.distplot(D['eci'],kde=False,color=\"orangered\",)\n",
    "plt.xlabel('Tag ECI',fontsize=20)\n",
    "plt.ylabel('Count',fontsize=20)\n",
    "plt.subplot(122)\n",
    "sns.distplot(D['pci'],kde=False,color=\"blue\",)\n",
    "plt.xlabel('User ECI',fontsize=20)\n",
    "plt.ylabel('Count',fontsize=20)\n",
    "plt.show()"
   ]
  },
  {
   "cell_type": "code",
   "execution_count": 154,
   "metadata": {
    "scrolled": false
   },
   "outputs": [
    {
     "data": {
      "text/plain": [
       "[('quantum-error-correction', 6.463757587406002),\n",
       " ('wightman-fields', 3.1221173276601535),\n",
       " ('affine-lie-algebra', 2.7604364301223097),\n",
       " ('superspace-formalism', 2.560976989989733),\n",
       " ('hopf-algebra', 2.5479013559563892),\n",
       " ('large-n', 2.546982098617455),\n",
       " ('algebraic-topology', 2.5359186633548023),\n",
       " ('amplituhedron', 2.5287466772888827),\n",
       " ('sigma-models', 2.509364795728365),\n",
       " ('string-field-theory', 2.5078306313353913),\n",
       " ('calabi-yau', 2.3875774723484313),\n",
       " ('topological-defects', 2.382500742747014),\n",
       " ('skyrmion', 2.3471149233650954),\n",
       " ('brst', 2.337258295839197),\n",
       " ('research-level', 2.3182699482268054),\n",
       " ('chern-simons-theory', 2.2951913128778414),\n",
       " ('conformal-field-theory', 2.271234211357312),\n",
       " ('supersymmetry', 2.259894261726987),\n",
       " ('superconformality', 2.2021466813934825),\n",
       " ('non-commutative-geometry', 2.14605407742623)]"
      ]
     },
     "execution_count": 154,
     "metadata": {},
     "output_type": "execute_result"
    }
   ],
   "source": [
    "res = [(key,D['pci'][dy[key]]) for key in dy]\n",
    "Res = sorted(res,key=lambda  x:x[1],reverse=True)\n",
    "Res[:20]"
   ]
  },
  {
   "cell_type": "code",
   "execution_count": 155,
   "metadata": {},
   "outputs": [
    {
     "data": {
      "text/plain": [
       "[('aircraft', -1.4849019487784323),\n",
       " ('drag', -1.4908179351006468),\n",
       " ('water', -1.4932421937930964),\n",
       " ('humidity', -1.4959362367879132),\n",
       " ('contact-mechanics', -1.5064492044506188),\n",
       " ('lift', -1.512611677321254),\n",
       " ('bernoulli-equation', -1.51976164121583),\n",
       " ('electricity', -1.5630536315786463),\n",
       " ('electrical-resistance', -1.5664219316478243),\n",
       " ('pressure', -1.5667629124821618),\n",
       " ('everyday-life', -1.569747586758768),\n",
       " ('fluid-dynamics', -1.586555976440661),\n",
       " ('aerodynamics', -1.599324971465454),\n",
       " ('free-body-diagram', -1.627645113727728),\n",
       " ('electric-circuits', -1.6570894398813922),\n",
       " ('forces', -1.664724621237131),\n",
       " ('friction', -1.6655668624243072),\n",
       " ('telescopes', -1.8129050499919555),\n",
       " ('newtonian-mechanics', -1.829506545246723),\n",
       " ('fracture', -2.025059425989051)]"
      ]
     },
     "execution_count": 155,
     "metadata": {},
     "output_type": "execute_result"
    }
   ],
   "source": [
    "Res[-20:]"
   ]
  },
  {
   "cell_type": "markdown",
   "metadata": {},
   "source": [
    "# 利用userid-questionid"
   ]
  },
  {
   "cell_type": "code",
   "execution_count": null,
   "metadata": {},
   "outputs": [],
   "source": [
    "考虑的问题 需要去处理那些被accepted的问题"
   ]
  },
  {
   "cell_type": "code",
   "execution_count": 394,
   "metadata": {},
   "outputs": [],
   "source": [
    "Question1 =  Question.dropna(subset=[\"OwnerUserId\"])\n",
    "Answer1 =  Answer.dropna(subset=[\"OwnerUserId\",\"ParentId\"])"
   ]
  },
  {
   "cell_type": "code",
   "execution_count": 395,
   "metadata": {},
   "outputs": [
    {
     "data": {
      "text/html": [
       "<div>\n",
       "<style scoped>\n",
       "    .dataframe tbody tr th:only-of-type {\n",
       "        vertical-align: middle;\n",
       "    }\n",
       "\n",
       "    .dataframe tbody tr th {\n",
       "        vertical-align: top;\n",
       "    }\n",
       "\n",
       "    .dataframe thead th {\n",
       "        text-align: right;\n",
       "    }\n",
       "</style>\n",
       "<table border=\"1\" class=\"dataframe\">\n",
       "  <thead>\n",
       "    <tr style=\"text-align: right;\">\n",
       "      <th></th>\n",
       "      <th>PostTypeId</th>\n",
       "      <th>Id</th>\n",
       "      <th>OwnerUserId</th>\n",
       "      <th>CreationDate</th>\n",
       "      <th>AcceptedAnswerId</th>\n",
       "      <th>Tags</th>\n",
       "      <th>ParentId</th>\n",
       "      <th>Score</th>\n",
       "      <th>CommentCount</th>\n",
       "      <th>ViewCount</th>\n",
       "      <th>AnswerCount</th>\n",
       "      <th>FavoriteCount</th>\n",
       "      <th>Title</th>\n",
       "      <th>Body</th>\n",
       "      <th>WaitingTime</th>\n",
       "    </tr>\n",
       "  </thead>\n",
       "  <tbody>\n",
       "    <tr>\n",
       "      <th>0</th>\n",
       "      <td>1</td>\n",
       "      <td>1</td>\n",
       "      <td>7.0</td>\n",
       "      <td>2010-11-02T18:59:01.140</td>\n",
       "      <td>5.0</td>\n",
       "      <td>&lt;quantum-mechanics&gt;&lt;particle-physics&gt;&lt;angular-...</td>\n",
       "      <td>NaN</td>\n",
       "      <td>68</td>\n",
       "      <td>5</td>\n",
       "      <td>12383.0</td>\n",
       "      <td>4.0</td>\n",
       "      <td>23.0</td>\n",
       "      <td>What is spin as it relates to subatomic partic...</td>\n",
       "      <td>&lt;p&gt;I often hear about subatomic particles havi...</td>\n",
       "      <td>16.0</td>\n",
       "    </tr>\n",
       "    <tr>\n",
       "      <th>1</th>\n",
       "      <td>1</td>\n",
       "      <td>2</td>\n",
       "      <td>23.0</td>\n",
       "      <td>2010-11-02T19:09:48.680</td>\n",
       "      <td>5704.0</td>\n",
       "      <td>&lt;particle-physics&gt;&lt;string-theory&gt;</td>\n",
       "      <td>NaN</td>\n",
       "      <td>27</td>\n",
       "      <td>3</td>\n",
       "      <td>2276.0</td>\n",
       "      <td>4.0</td>\n",
       "      <td>8.0</td>\n",
       "      <td>What is your simplest explanation of the strin...</td>\n",
       "      <td>&lt;p&gt;How would you explain string theory to non ...</td>\n",
       "      <td>804.0</td>\n",
       "    </tr>\n",
       "    <tr>\n",
       "      <th>2</th>\n",
       "      <td>1</td>\n",
       "      <td>3</td>\n",
       "      <td>40.0</td>\n",
       "      <td>2010-11-02T19:11:05.857</td>\n",
       "      <td>180.0</td>\n",
       "      <td>&lt;particle-physics&gt;&lt;group-theory&gt;&lt;representatio...</td>\n",
       "      <td>NaN</td>\n",
       "      <td>32</td>\n",
       "      <td>5</td>\n",
       "      <td>2113.0</td>\n",
       "      <td>3.0</td>\n",
       "      <td>12.0</td>\n",
       "      <td>Lie theory, Representations and particle physics</td>\n",
       "      <td>&lt;p&gt;This is a question that has been posted at ...</td>\n",
       "      <td>120.0</td>\n",
       "    </tr>\n",
       "    <tr>\n",
       "      <th>5</th>\n",
       "      <td>1</td>\n",
       "      <td>7</td>\n",
       "      <td>23.0</td>\n",
       "      <td>2010-11-02T19:26:38.137</td>\n",
       "      <td>46.0</td>\n",
       "      <td>&lt;quantum-mechanics&gt;&lt;quantum-interpretations&gt;&lt;h...</td>\n",
       "      <td>NaN</td>\n",
       "      <td>10</td>\n",
       "      <td>5</td>\n",
       "      <td>1849.0</td>\n",
       "      <td>6.0</td>\n",
       "      <td>5.0</td>\n",
       "      <td>Will Determinism be ever possible?</td>\n",
       "      <td>&lt;p&gt;What are the main problems that we need to ...</td>\n",
       "      <td>87.0</td>\n",
       "    </tr>\n",
       "    <tr>\n",
       "      <th>7</th>\n",
       "      <td>1</td>\n",
       "      <td>9</td>\n",
       "      <td>48.0</td>\n",
       "      <td>2010-11-02T19:28:09.013</td>\n",
       "      <td>NaN</td>\n",
       "      <td>&lt;lagrangian-formalism&gt;&lt;variational-principle&gt;&lt;...</td>\n",
       "      <td>NaN</td>\n",
       "      <td>39</td>\n",
       "      <td>1</td>\n",
       "      <td>6586.0</td>\n",
       "      <td>6.0</td>\n",
       "      <td>27.0</td>\n",
       "      <td>Hamilton's Principle</td>\n",
       "      <td>&lt;p&gt;Hamilton's principle states that a dynamic ...</td>\n",
       "      <td>NaN</td>\n",
       "    </tr>\n",
       "  </tbody>\n",
       "</table>\n",
       "</div>"
      ],
      "text/plain": [
       "   PostTypeId  Id  OwnerUserId             CreationDate  AcceptedAnswerId  \\\n",
       "0           1   1          7.0  2010-11-02T18:59:01.140               5.0   \n",
       "1           1   2         23.0  2010-11-02T19:09:48.680            5704.0   \n",
       "2           1   3         40.0  2010-11-02T19:11:05.857             180.0   \n",
       "5           1   7         23.0  2010-11-02T19:26:38.137              46.0   \n",
       "7           1   9         48.0  2010-11-02T19:28:09.013               NaN   \n",
       "\n",
       "                                                Tags  ParentId  Score  \\\n",
       "0  <quantum-mechanics><particle-physics><angular-...       NaN     68   \n",
       "1                  <particle-physics><string-theory>       NaN     27   \n",
       "2  <particle-physics><group-theory><representatio...       NaN     32   \n",
       "5  <quantum-mechanics><quantum-interpretations><h...       NaN     10   \n",
       "7  <lagrangian-formalism><variational-principle><...       NaN     39   \n",
       "\n",
       "   CommentCount  ViewCount  AnswerCount  FavoriteCount  \\\n",
       "0             5    12383.0          4.0           23.0   \n",
       "1             3     2276.0          4.0            8.0   \n",
       "2             5     2113.0          3.0           12.0   \n",
       "5             5     1849.0          6.0            5.0   \n",
       "7             1     6586.0          6.0           27.0   \n",
       "\n",
       "                                               Title  \\\n",
       "0  What is spin as it relates to subatomic partic...   \n",
       "1  What is your simplest explanation of the strin...   \n",
       "2   Lie theory, Representations and particle physics   \n",
       "5                 Will Determinism be ever possible?   \n",
       "7                               Hamilton's Principle   \n",
       "\n",
       "                                                Body  WaitingTime  \n",
       "0  <p>I often hear about subatomic particles havi...         16.0  \n",
       "1  <p>How would you explain string theory to non ...        804.0  \n",
       "2  <p>This is a question that has been posted at ...        120.0  \n",
       "5  <p>What are the main problems that we need to ...         87.0  \n",
       "7  <p>Hamilton's principle states that a dynamic ...          NaN  "
      ]
     },
     "execution_count": 395,
     "metadata": {},
     "output_type": "execute_result"
    }
   ],
   "source": [
    "Question1.head()"
   ]
  },
  {
   "cell_type": "code",
   "execution_count": 157,
   "metadata": {},
   "outputs": [],
   "source": [
    "XY = [[int(Answer.OwnerUserId[i]), int(Answer.ParentId[i])] for i in Answer1.index]"
   ]
  },
  {
   "cell_type": "code",
   "execution_count": 158,
   "metadata": {},
   "outputs": [],
   "source": [
    "x = [i  for  i,j  in XY]\n",
    "y = [j  for  i,j  in XY]"
   ]
  },
  {
   "cell_type": "code",
   "execution_count": 159,
   "metadata": {},
   "outputs": [],
   "source": [
    "Cx = Counter(x)\n",
    "Cy= Counter(y)"
   ]
  },
  {
   "cell_type": "code",
   "execution_count": 177,
   "metadata": {
    "scrolled": false
   },
   "outputs": [
    {
     "data": {
      "text/plain": [
       "<matplotlib.axes._subplots.AxesSubplot at 0x7efc683cbda0>"
      ]
     },
     "execution_count": 177,
     "metadata": {},
     "output_type": "execute_result"
    },
    {
     "data": {
      "image/png": "[encoded data removed]",
      "text/plain": [
       "<Figure size 1080x720 with 2 Axes>"
      ]
     },
     "metadata": {},
     "output_type": "display_data"
    }
   ],
   "source": [
    "plt.figure(figsize=(15,10))\n",
    "plt.subplot(211)\n",
    "sns.distplot(list(Cx.values()))\n",
    "plt.subplot(212)\n",
    "sns.distplot(list(Cy.values()))"
   ]
  },
  {
   "cell_type": "code",
   "execution_count": null,
   "metadata": {},
   "outputs": [],
   "source": []
  },
  {
   "cell_type": "code",
   "execution_count": 185,
   "metadata": {},
   "outputs": [
    {
     "name": "stdout",
     "output_type": "stream",
     "text": [
      "0.997033366975563666\r"
     ]
    }
   ],
   "source": [
    "removex = [i for i in Cx if Cx[i]<=2]\n",
    "removey = [i for i in Cy if Cy[i]<=3]\n",
    "XY1 = []\n",
    "n=0\n",
    "N=len(XY)\n",
    "for xi,yi in XY:\n",
    "    if xi not in removex and yi not in removey:\n",
    "        XY1.append([xi,yi])\n",
    "    n+=1\n",
    "    if n%1000==0:\n",
    "        print(n*1.0/N,end='\\r')"
   ]
  },
  {
   "cell_type": "code",
   "execution_count": 186,
   "metadata": {},
   "outputs": [
    {
     "data": {
      "text/plain": [
       "(3626, 6694)"
      ]
     },
     "execution_count": 186,
     "metadata": {},
     "output_type": "execute_result"
    }
   ],
   "source": [
    "x = [i  for  i,j  in XY1]\n",
    "y = [j  for  i,j  in XY1]\n",
    "dx = get_dict(x)\n",
    "dy = get_dict(y)\n",
    "xlist = [dx[a] for a in x]\n",
    "ylist = [dy[b] for b in y]\n",
    "len(dx),len(dy)"
   ]
  },
  {
   "cell_type": "code",
   "execution_count": 187,
   "metadata": {},
   "outputs": [],
   "source": [
    "nx,ny=len(dx),len(dy)\n",
    "M = sparse.csc_matrix(([1.]*len(xlist),(xlist,ylist)),shape=(nx,ny))"
   ]
  },
  {
   "cell_type": "code",
   "execution_count": 207,
   "metadata": {},
   "outputs": [
    {
     "name": "stderr",
     "output_type": "stream",
     "text": [
      "/home/superman/anaconda3/lib/python3.7/site-packages/scipy/sparse/compressed.py:282: SparseEfficiencyWarning: Comparing a sparse matrix with a scalar greater than zero using < is inefficient, try using >= instead.\n",
      "  warn(bad_scalar_msg, SparseEfficiencyWarning)\n"
     ]
    },
    {
     "name": "stdout",
     "output_type": "stream",
     "text": [
      "==Time 3.83==\n"
     ]
    }
   ],
   "source": [
    "R = RCA_sparse(M)\n",
    "#D = Get_eci_pci_sparse(R)"
   ]
  },
  {
   "cell_type": "code",
   "execution_count": 222,
   "metadata": {},
   "outputs": [],
   "source": [
    "@timelogger\n",
    "def Get_eci_pci(M):\n",
    "    d = M.sum(1).T.tolist()[0]\n",
    "    u = M.sum(0).tolist()[0]\n",
    "    D = np.diag([1.0/i if i>0 else 0. for i in d])\n",
    "    U = np.diag([1.0/i if i>0 else 0. for i in u])\n",
    "    mcp1 = D * M\n",
    "    mcp2 = M * U\n",
    "    \n",
    "    Mcc = mcp1 * mcp2.T\n",
    "    Mpp = mcp2.T * mcp1\n",
    "    eigvals, eigvecs = np.linalg.eig(Mpp)\n",
    "    eigvecs = np.real(eigvecs)\n",
    "    # Get eigenvector corresponding to second largest eigenvalue\n",
    "    eig_index = eigvals.argsort()[-2]\n",
    "    kp = eigvecs[:, eig_index]\n",
    "    kc = mcp1 @ kp\n",
    "    s1 = np.sign(np.corrcoef(M.sum(1).reshape(-1), kc.reshape(-1))[0, 1])\n",
    "    eci = s1 * kc\n",
    "    pci = s1 * kp  \n",
    "    return {'eci':eci.T.tolist()[0],'pci':pci.T.tolist()[0]}"
   ]
  },
  {
   "cell_type": "code",
   "execution_count": 462,
   "metadata": {},
   "outputs": [
    {
     "name": "stdout",
     "output_type": "stream",
     "text": [
      "==Time 1.03==\n"
     ]
    }
   ],
   "source": [
    "D = Get_eci_pci_sparse(M)"
   ]
  },
  {
   "cell_type": "code",
   "execution_count": 463,
   "metadata": {},
   "outputs": [],
   "source": [
    "eci = D['eci']\n",
    "pci = D['pci']\n",
    "# eci[abs(eci)>0.025]=0.025\n",
    "# pci[abs(pci)>0.025]=0.025"
   ]
  },
  {
   "cell_type": "code",
   "execution_count": 286,
   "metadata": {},
   "outputs": [
    {
     "data": {
      "text/plain": [
       "array([0.00498345, 0.00498345, 0.00498345, ..., 0.00498345, 0.00498345,\n",
       "       0.00498345])"
      ]
     },
     "execution_count": 286,
     "metadata": {},
     "output_type": "execute_result"
    }
   ],
   "source": [
    "eci"
   ]
  },
  {
   "cell_type": "code",
   "execution_count": 478,
   "metadata": {},
   "outputs": [],
   "source": [
    "def filter_extream(eci):\n",
    "    mark1 =0\n",
    "    mark2 =0\n",
    "    n=0\n",
    "    seci = sorted(eci,reverse=True)\n",
    "    for i in range(1,len(seci)):\n",
    "        if seci[i]/seci[i-1]<1:\n",
    "            mark1 = seci[i]\n",
    "            break\n",
    "    seci = sorted(eci)\n",
    "    for i in range(1,len(seci)):\n",
    "        if seci[i]/seci[i-1]>1:\n",
    "            mark2 = seci[i]\n",
    "            break\n",
    "    eci[eci>mark1]=mark1\n",
    "    eci[eci<mark2]=mark2\n",
    "    return eci"
   ]
  },
  {
   "cell_type": "code",
   "execution_count": 491,
   "metadata": {},
   "outputs": [
    {
     "data": {
      "image/png": "[encoded data removed]",
      "text/plain": [
       "<Figure size 432x288 with 1 Axes>"
      ]
     },
     "metadata": {},
     "output_type": "display_data"
    }
   ],
   "source": [
    "eci1 =  filter_extream(eci)\n",
    "eci1 = Get_z_score(eci1)\n",
    "eci1 =  filter_extream(eci1)\n",
    "eci1 =  filter_extream(eci1)\n",
    "eci1 =  filter_extream(eci1)\n",
    "eci1 =  filter_extream(eci1)\n",
    "eci1 =  filter_extream(eci1)\n",
    "eci1 =  filter_extream(eci1)\n",
    "sns.distplot(eci1,kde=False)\n",
    "plt.yscale('log')"
   ]
  },
  {
   "cell_type": "code",
   "execution_count": 284,
   "metadata": {},
   "outputs": [
    {
     "data": {
      "image/png": "[encoded data removed]",
      "text/plain": [
       "<Figure size 432x288 with 1 Axes>"
      ]
     },
     "metadata": {},
     "output_type": "display_data"
    }
   ],
   "source": [
    "sns.distplot(Get_z_score(eci),kde=False)\n",
    "plt.yscale('log')"
   ]
  },
  {
   "cell_type": "code",
   "execution_count": 285,
   "metadata": {},
   "outputs": [
    {
     "data": {
      "text/plain": [
       "array([-0.30328026,  0.84437662,  0.02108168, ...,  0.02108168,\n",
       "        0.66980554,  0.07101196])"
      ]
     },
     "execution_count": 285,
     "metadata": {},
     "output_type": "execute_result"
    }
   ],
   "source": [
    "Get_z_score(eci)"
   ]
  },
  {
   "cell_type": "code",
   "execution_count": 209,
   "metadata": {
    "scrolled": true
   },
   "outputs": [
    {
     "data": {
      "image/png": "[encoded data removed]",
      "text/plain": [
       "<Figure size 1080x360 with 2 Axes>"
      ]
     },
     "metadata": {},
     "output_type": "display_data"
    }
   ],
   "source": [
    "import matplotlib.pyplot as plt\n",
    "import seaborn as sns\n",
    "sns.set()\n",
    "plt.figure(figsize=(15,5))\n",
    "\n",
    "plt.subplot(121)\n",
    "plt.yscale('log')\n",
    "sns.distplot(D['eci'],kde=False,color=\"orangered\",)\n",
    "plt.xlabel('Tag ECI',fontsize=20)\n",
    "plt.ylabel('Count',fontsize=20)\n",
    "plt.subplot(122)\n",
    "sns.distplot(D['pci'],kde=False,color=\"blue\",)\n",
    "plt.xlabel('User ECI',fontsize=20)\n",
    "plt.ylabel('Count',fontsize=20)\n",
    "plt.yscale('log')\n",
    "plt.show()"
   ]
  },
  {
   "cell_type": "code",
   "execution_count": 493,
   "metadata": {},
   "outputs": [],
   "source": [
    "pci1 = filter_extream(D['pci'])"
   ]
  },
  {
   "cell_type": "code",
   "execution_count": 494,
   "metadata": {},
   "outputs": [],
   "source": [
    "SD =  sorted([[i,k]  for i,k in zip(range(len(pci1)),pci1)],key=lambda x:x[1],reverse=True)"
   ]
  },
  {
   "cell_type": "code",
   "execution_count": 495,
   "metadata": {},
   "outputs": [],
   "source": [
    "qid = [i for i in dy.keys()]\n",
    "qid2 = [dy[i] for i in qid]"
   ]
  },
  {
   "cell_type": "code",
   "execution_count": 496,
   "metadata": {},
   "outputs": [],
   "source": [
    "id2origin=dict(zip(qid2,qid))"
   ]
  },
  {
   "cell_type": "code",
   "execution_count": 497,
   "metadata": {},
   "outputs": [],
   "source": [
    "tmp =[]\n",
    "for i,j in SD:\n",
    "    if not np.isnan(list(data.loc[data['Id']==id2origin[i]].WaitingTime)[0]):\n",
    "        WaitingTime = list(data.loc[data['Id']==id2origin[i]].WaitingTime)[0]\n",
    "        ViewCount= list(data.loc[data['Id']==id2origin[i]].ViewCount)[0]\n",
    "        AnswerCount = list(data.loc[data['Id']==id2origin[i]].AnswerCount)[0]\n",
    "        TagCount = len(p1.findall(list(data.loc[data['Id']==id2origin[i]].Tags)[0]))\n",
    "        tmp.append([id2origin[i],j,WaitingTime,ViewCount,AnswerCount,TagCount])"
   ]
  },
  {
   "cell_type": "code",
   "execution_count": 498,
   "metadata": {},
   "outputs": [],
   "source": [
    "XYZ = np.array(tmp)"
   ]
  },
  {
   "cell_type": "code",
   "execution_count": 510,
   "metadata": {},
   "outputs": [
    {
     "data": {
      "text/plain": [
       "SpearmanrResult(correlation=-0.11055045600052214, pvalue=1.2382929019430042e-11)"
      ]
     },
     "execution_count": 510,
     "metadata": {},
     "output_type": "execute_result"
    }
   ],
   "source": [
    "scipy.stats.spearmanr(XYZ[:,2],XYZ[:,3])#WaitingTime,ViewCount"
   ]
  },
  {
   "cell_type": "code",
   "execution_count": 512,
   "metadata": {},
   "outputs": [
    {
     "data": {
      "text/plain": [
       "SpearmanrResult(correlation=0.03475164755294162, pvalue=0.03366598987833371)"
      ]
     },
     "execution_count": 512,
     "metadata": {},
     "output_type": "execute_result"
    }
   ],
   "source": [
    "scipy.stats.spearmanr(XYZ[:,1],XYZ[:,4])#Weci,ViewCount"
   ]
  },
  {
   "cell_type": "code",
   "execution_count": 509,
   "metadata": {},
   "outputs": [
    {
     "data": {
      "text/plain": [
       "(0, 1)"
      ]
     },
     "execution_count": 509,
     "metadata": {},
     "output_type": "execute_result"
    },
    {
     "data": {
      "image/png": "[encoded data removed]",
      "text/plain": [
       "<Figure size 432x288 with 1 Axes>"
      ]
     },
     "metadata": {},
     "output_type": "display_data"
    }
   ],
   "source": [
    "XYZ = np.array(tmp)\n",
    "xx = filter_extream(Get_z_score(filter_extream(XYZ[:,1])))\n",
    "plt.scatter(xx ,XYZ[:,3],edgecolors='w')\n",
    "plt.yscale('log')\n",
    "plt.xlim([0,1])"
   ]
  },
  {
   "cell_type": "code",
   "execution_count": 503,
   "metadata": {},
   "outputs": [
    {
     "data": {
      "text/plain": [
       "Counter({0.010624655924844427: 2,\n",
       "         0.01062465592471337: 1,\n",
       "         0.010624655924689074: 1,\n",
       "         0.010624655924688675: 1,\n",
       "         0.010624655924686607: 1,\n",
       "         0.010624655924685882: 1,\n",
       "         0.010624655924685556: 1,\n",
       "         0.010624655924684612: 2,\n",
       "         0.010624655924684142: 1,\n",
       "         0.010624655924683996: 1,\n",
       "         0.010624655924683923: 1,\n",
       "         0.01062465592468385: 2,\n",
       "         0.01062465592468338: 1,\n",
       "         0.010624655924683125: 1,\n",
       "         0.010624655924682981: 1,\n",
       "         0.010624655924682763: 1,\n",
       "         0.010624655924682692: 1,\n",
       "         0.010624655924682655: 2,\n",
       "         0.010624655924682619: 1,\n",
       "         0.010624655924682546: 3,\n",
       "         0.01062465592468251: 2,\n",
       "         0.010624655924682437: 4,\n",
       "         0.0106246559246824: 1,\n",
       "         0.010624655924682364: 1,\n",
       "         0.010624655924682327: 1,\n",
       "         0.010624655924682293: 3,\n",
       "         0.01062465592468222: 5,\n",
       "         0.010624655924682183: 3,\n",
       "         0.010624655924682147: 6,\n",
       "         0.01062465592468211: 3,\n",
       "         0.010624655924682074: 3,\n",
       "         0.010624655924682038: 10,\n",
       "         0.010624655924682001: 5,\n",
       "         0.010624655924681965: 7,\n",
       "         0.01062465592468193: 6,\n",
       "         0.010624655924681894: 7,\n",
       "         0.010624655924681857: 6,\n",
       "         0.010624655924681821: 13,\n",
       "         0.010624655924681784: 10,\n",
       "         0.010624655924681748: 19,\n",
       "         0.010624655924681712: 25,\n",
       "         0.010624655924681675: 30,\n",
       "         0.010624655924681639: 35,\n",
       "         0.010624655924681602: 51,\n",
       "         0.010624655924681566: 61,\n",
       "         0.010624655924681531: 57,\n",
       "         0.010624655924681495: 75,\n",
       "         0.010624655924681458: 81,\n",
       "         0.010624655924681422: 108,\n",
       "         0.010624655924681385: 107,\n",
       "         0.010624655924681349: 144,\n",
       "         0.010624655924681313: 150,\n",
       "         0.010624655924681276: 184,\n",
       "         0.01062465592468124: 155,\n",
       "         0.010624655924681203: 173,\n",
       "         0.010624655924681169: 214,\n",
       "         0.010624655924681132: 207,\n",
       "         0.010624655924681096: 165,\n",
       "         0.01062465592468106: 162,\n",
       "         0.010624655924681023: 137,\n",
       "         0.010624655924680987: 173,\n",
       "         0.01062465592468095: 143,\n",
       "         0.010624655924680914: 143,\n",
       "         0.010624655924680877: 99,\n",
       "         0.01062465592468084: 86,\n",
       "         0.010624655924680804: 96,\n",
       "         0.01062465592468077: 78,\n",
       "         0.010624655924680733: 60,\n",
       "         0.010624655924680697: 58,\n",
       "         0.01062465592468066: 50,\n",
       "         0.010624655924680624: 40,\n",
       "         0.010624655924680588: 27,\n",
       "         0.010624655924680551: 31,\n",
       "         0.010624655924680515: 19,\n",
       "         0.010624655924680478: 17,\n",
       "         0.010624655924680442: 13,\n",
       "         0.010624655924680407: 17,\n",
       "         0.01062465592468037: 14,\n",
       "         0.010624655924680334: 10,\n",
       "         0.010624655924680298: 9,\n",
       "         0.010624655924680261: 8,\n",
       "         0.010624655924680225: 8,\n",
       "         0.010624655924680189: 5,\n",
       "         0.010624655924680152: 6,\n",
       "         0.010624655924680116: 4,\n",
       "         0.01062465592468008: 4,\n",
       "         0.010624655924680043: 4,\n",
       "         0.010624655924679972: 5,\n",
       "         0.010624655924679935: 3,\n",
       "         0.010624655924679899: 3,\n",
       "         0.010624655924679862: 1,\n",
       "         0.010624655924679826: 3,\n",
       "         0.01062465592467979: 4,\n",
       "         0.010624655924679753: 1,\n",
       "         0.010624655924679717: 1,\n",
       "         0.01062465592467968: 3,\n",
       "         0.010624655924679646: 1,\n",
       "         0.01062465592467961: 4,\n",
       "         0.010624655924679573: 2,\n",
       "         0.010624655924679536: 1,\n",
       "         0.0106246559246795: 1,\n",
       "         0.010624655924679463: 2,\n",
       "         0.010624655924679354: 1,\n",
       "         0.01062465592467921: 1,\n",
       "         0.010624655924679174: 1,\n",
       "         0.010624655924679137: 2,\n",
       "         0.0106246559246791: 1,\n",
       "         0.010624655924678992: 2,\n",
       "         0.010624655924678485: 1,\n",
       "         0.010624655924678412: 1,\n",
       "         0.010624655924673298: 1,\n",
       "         0.010624655924671631: 1,\n",
       "         0.010624655924664522: 1,\n",
       "         0.01062465592465524: 4})"
      ]
     },
     "execution_count": 503,
     "metadata": {},
     "output_type": "execute_result"
    }
   ],
   "source": [
    "Counter(XYZ[:,1])"
   ]
  },
  {
   "cell_type": "code",
   "execution_count": 404,
   "metadata": {},
   "outputs": [
    {
     "data": {
      "text/plain": [
       "[[171833, 0.00463578254617573, nan],\n",
       " [280324, 0.00463578254617573, 22.0],\n",
       " [144393, 0.00463578254617565, 40.0],\n",
       " [178169, 0.004635782546175008, 36.0],\n",
       " [169964, 0.004635782546173401, 522.0],\n",
       " [250912, 0.004635782546172679, nan],\n",
       " [248080, 0.004635782546172518, nan],\n",
       " [107209, 0.004635782546170912, nan],\n",
       " [251171, 0.0046357825461701896, 40.0],\n",
       " [321932, 0.004635782546169226, 243.0],\n",
       " [95259, 0.004635782546166496, nan],\n",
       " [231070, 0.004635782546162, nan],\n",
       " [207806, 0.0046357825461607145, nan],\n",
       " [108817, 0.004635782546160394, 222.0],\n",
       " [14535, 0.0046357825461598315, nan],\n",
       " [73571, 0.004635782546156058, nan],\n",
       " [145135, 0.00463578254615389, 24.0],\n",
       " [212986, 0.004635782546052236, 235.0],\n",
       " [261603, -46.170330928723, 18.0],\n",
       " [242126, -54.06230375073607, nan]]"
      ]
     },
     "execution_count": 404,
     "metadata": {},
     "output_type": "execute_result"
    }
   ],
   "source": [
    "[[id2origin[i],j,list(data.loc[data['Id']==id2origin[i]].WaitingTime)[0]] for i,j  in SD[-20:]]"
   ]
  },
  {
   "cell_type": "code",
   "execution_count": 216,
   "metadata": {
    "scrolled": false
   },
   "outputs": [
    {
     "data": {
      "text/html": [
       "<div>\n",
       "<style scoped>\n",
       "    .dataframe tbody tr th:only-of-type {\n",
       "        vertical-align: middle;\n",
       "    }\n",
       "\n",
       "    .dataframe tbody tr th {\n",
       "        vertical-align: top;\n",
       "    }\n",
       "\n",
       "    .dataframe thead th {\n",
       "        text-align: right;\n",
       "    }\n",
       "</style>\n",
       "<table border=\"1\" class=\"dataframe\">\n",
       "  <thead>\n",
       "    <tr style=\"text-align: right;\">\n",
       "      <th></th>\n",
       "      <th>PostTypeId</th>\n",
       "      <th>Id</th>\n",
       "      <th>OwnerUserId</th>\n",
       "      <th>CreationDate</th>\n",
       "      <th>AcceptedAnswerId</th>\n",
       "      <th>Tags</th>\n",
       "      <th>ParentId</th>\n",
       "      <th>Score</th>\n",
       "      <th>CommentCount</th>\n",
       "      <th>ViewCount</th>\n",
       "      <th>AnswerCount</th>\n",
       "      <th>FavoriteCount</th>\n",
       "      <th>Title</th>\n",
       "      <th>Body</th>\n",
       "    </tr>\n",
       "  </thead>\n",
       "  <tbody>\n",
       "    <tr>\n",
       "      <th>175905</th>\n",
       "      <td>2</td>\n",
       "      <td>242129</td>\n",
       "      <td>99936.0</td>\n",
       "      <td>2016-03-08T00:22:59.040</td>\n",
       "      <td>NaN</td>\n",
       "      <td>NaN</td>\n",
       "      <td>242126.0</td>\n",
       "      <td>0</td>\n",
       "      <td>0</td>\n",
       "      <td>NaN</td>\n",
       "      <td>NaN</td>\n",
       "      <td>NaN</td>\n",
       "      <td>NaN</td>\n",
       "      <td>&lt;p&gt;the hexagonal prism consists of three unit ...</td>\n",
       "    </tr>\n",
       "    <tr>\n",
       "      <th>175909</th>\n",
       "      <td>2</td>\n",
       "      <td>242135</td>\n",
       "      <td>89246.0</td>\n",
       "      <td>2016-03-08T00:49:25.643</td>\n",
       "      <td>NaN</td>\n",
       "      <td>NaN</td>\n",
       "      <td>242126.0</td>\n",
       "      <td>0</td>\n",
       "      <td>1</td>\n",
       "      <td>NaN</td>\n",
       "      <td>NaN</td>\n",
       "      <td>NaN</td>\n",
       "      <td>NaN</td>\n",
       "      <td>&lt;p&gt;I understand it now.&lt;/p&gt;\\n\\n&lt;p&gt;I was forget...</td>\n",
       "    </tr>\n",
       "    <tr>\n",
       "      <th>175917</th>\n",
       "      <td>2</td>\n",
       "      <td>242149</td>\n",
       "      <td>55863.0</td>\n",
       "      <td>2016-03-08T02:39:59.137</td>\n",
       "      <td>NaN</td>\n",
       "      <td>NaN</td>\n",
       "      <td>242126.0</td>\n",
       "      <td>1</td>\n",
       "      <td>0</td>\n",
       "      <td>NaN</td>\n",
       "      <td>NaN</td>\n",
       "      <td>NaN</td>\n",
       "      <td>NaN</td>\n",
       "      <td>&lt;p&gt;I hope this picture makes clearer both the ...</td>\n",
       "    </tr>\n",
       "    <tr>\n",
       "      <th>225100</th>\n",
       "      <td>2</td>\n",
       "      <td>309853</td>\n",
       "      <td>144437.0</td>\n",
       "      <td>2017-02-05T09:23:31.327</td>\n",
       "      <td>NaN</td>\n",
       "      <td>NaN</td>\n",
       "      <td>242126.0</td>\n",
       "      <td>1</td>\n",
       "      <td>0</td>\n",
       "      <td>NaN</td>\n",
       "      <td>NaN</td>\n",
       "      <td>NaN</td>\n",
       "      <td>NaN</td>\n",
       "      <td>&lt;p&gt;It can be viewed as a combination of three ...</td>\n",
       "    </tr>\n",
       "  </tbody>\n",
       "</table>\n",
       "</div>"
      ],
      "text/plain": [
       "        PostTypeId      Id  OwnerUserId             CreationDate  \\\n",
       "175905           2  242129      99936.0  2016-03-08T00:22:59.040   \n",
       "175909           2  242135      89246.0  2016-03-08T00:49:25.643   \n",
       "175917           2  242149      55863.0  2016-03-08T02:39:59.137   \n",
       "225100           2  309853     144437.0  2017-02-05T09:23:31.327   \n",
       "\n",
       "        AcceptedAnswerId Tags  ParentId  Score  CommentCount  ViewCount  \\\n",
       "175905               NaN  NaN  242126.0      0             0        NaN   \n",
       "175909               NaN  NaN  242126.0      0             1        NaN   \n",
       "175917               NaN  NaN  242126.0      1             0        NaN   \n",
       "225100               NaN  NaN  242126.0      1             0        NaN   \n",
       "\n",
       "        AnswerCount  FavoriteCount Title  \\\n",
       "175905          NaN            NaN   NaN   \n",
       "175909          NaN            NaN   NaN   \n",
       "175917          NaN            NaN   NaN   \n",
       "225100          NaN            NaN   NaN   \n",
       "\n",
       "                                                     Body  \n",
       "175905  <p>the hexagonal prism consists of three unit ...  \n",
       "175909  <p>I understand it now.</p>\\n\\n<p>I was forget...  \n",
       "175917  <p>I hope this picture makes clearer both the ...  \n",
       "225100  <p>It can be viewed as a combination of three ...  "
      ]
     },
     "execution_count": 216,
     "metadata": {},
     "output_type": "execute_result"
    }
   ],
   "source": [
    "data.loc[data['ParentId']==242126]"
   ]
  },
  {
   "cell_type": "code",
   "execution_count": null,
   "metadata": {},
   "outputs": [],
   "source": []
  }
 ],
 "metadata": {
  "kernelspec": {
   "display_name": "Python 3",
   "language": "python",
   "name": "python3"
  },
  "language_info": {
   "codemirror_mode": {
    "name": "ipython",
    "version": 3
   },
   "file_extension": ".py",
   "mimetype": "text/x-python",
   "name": "python",
   "nbconvert_exporter": "python",
   "pygments_lexer": "ipython3",
   "version": "3.7.3"
  }
 },
 "nbformat": 4,
 "nbformat_minor": 2
}

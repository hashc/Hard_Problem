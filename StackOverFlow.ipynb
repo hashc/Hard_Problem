{
 "cells": [
  {
   "cell_type": "code",
   "execution_count": 1,
   "metadata": {},
   "outputs": [],
   "source": [
    "try:\n",
    "    import xml.etree.cElementTree as et\n",
    "except ImportError:\n",
    "    import xml.etree.ElementTree as et\n",
    "from bs4 import BeautifulSoup\n",
    "import copy\n",
    "import time\n",
    "import matplotlib.pyplot as plt\n",
    "import seaborn as sns\n",
    "import re\n",
    "import pandas as pd\n",
    "import pickle"
   ]
  },
  {
   "cell_type": "code",
   "execution_count": 3,
   "metadata": {},
   "outputs": [],
   "source": [
    "def getattrib(string):\n",
    "    \"\"\"\n",
    "    {'Id': '5',\n",
    "     'PostTypeId': '2',\n",
    "     'ParentId': '1',\n",
    "     'CreationDate': '2010-11-02T19:15:20.813',\n",
    "     'Score': '42',\n",
    "     'OwnerUserId': '13',\n",
    "     'LastEditorUserId': '75633',\n",
    "     'LastEditDate': '2017-12-13T08:24:54.477',\n",
    "     'LastActivityDate': '2017-12-13T08:24:54.477',\n",
    "     'CommentCount': '0'}\n",
    "    \n",
    "    \"\"\"\n",
    "    root = et.fromstring(string)\n",
    "    attr = root.attrib\n",
    "    attr.pop(\"Body\")\n",
    "    return attr\n",
    "infoList = ['PostTypeId','Id','OwnerUserId','CreationDate','AcceptedAnswerId','Tags','ParentId',\n",
    "            \"Score\",\"CommentCount\",\"ViewCount\",\"AnswerCount\",\"FavoriteCount\"]\n",
    "def getinfo(attr):\n",
    "    tmpList = []\n",
    "    for key in infoList:\n",
    "        if key in attr:\n",
    "            tmp = attr[key]\n",
    "        else:\n",
    "            tmp = \"null\"\n",
    "        tmpList.append(tmp)\n",
    "    return tmpList\n",
    "p1 = re.compile(r'[<](.*?)[>]', re.S)  #最小匹配"
   ]
  },
  {
   "cell_type": "code",
   "execution_count": 4,
   "metadata": {},
   "outputs": [
    {
     "name": "stdout",
     "output_type": "stream",
     "text": [
      "===Finish 200000   TotalTimeCost 13.21===\r"
     ]
    }
   ],
   "source": [
    "path = \"../../data/stackoverflow/old/\"\n",
    "fname = path + \"Posts.xml\"\n",
    "n=0\n",
    "nq=0#number of questions \n",
    "nqa=0#number of questions with answer\n",
    "QuestionDict ={}\n",
    "AnswerDict = {}\n",
    "start = time.clock()\n",
    "loss_id = []\n",
    "data = {key:[] for key in infoList}\n",
    "with open(fname,'r') as f:\n",
    "    for line in f:\n",
    "        if \"row\" in line:\n",
    "            n += 1\n",
    "            attr = getattrib(line)\n",
    "            tmpList = getinfo(attr)\n",
    "            PostTypeId, postid,OwnerUserId,datetime,AcceptedAnswerId,tags,ParentId = tmpList[:7]\n",
    "            if \"OwnerUserId\" in attr:\n",
    "                if PostTypeId == '1':#question  \n",
    "                    nq += 1\n",
    "                    if 'AcceptedAnswerId' in attr and \"Tags\" in attr:# Questions that have answers\n",
    "                        nqa+=1\n",
    "                        tags = p1.findall(tags)\n",
    "                        QuestionDict[postid] = (OwnerUserId,AcceptedAnswerId,datetime,tags) \n",
    "                elif PostTypeId == '2':#answer\n",
    "                    if \"ParentId\" in attr:             \n",
    "                        AnswerDict[postid]= (OwnerUserId,ParentId,datetime)\n",
    "                else:\n",
    "                    pass \n",
    "            for key,i in zip(infoList,range(12)):\n",
    "                data[key].append(tmpList[i])\n",
    "        if n%100000 == 0:\n",
    "            elapsed = (time.clock() - start)\n",
    "            print(\"===Finish %d   TotalTimeCost %.2f===\"%(n,elapsed),end='\\r')"
   ]
  },
  {
   "cell_type": "code",
   "execution_count": 5,
   "metadata": {},
   "outputs": [
    {
     "name": "stdout",
     "output_type": "stream",
     "text": [
      "===Finish 284550   TotalTimeCost 13.21===\r"
     ]
    }
   ],
   "source": [
    "print(\"===Finish %d   TotalTimeCost %.2f===\"%(n,elapsed),end='\\r')\n",
    "Data = pd.DataFrame(data)\n",
    "Data.to_csv ('./Posts_phys.csv', index = None, header=True)"
   ]
  },
  {
   "cell_type": "code",
   "execution_count": 21,
   "metadata": {},
   "outputs": [],
   "source": [
    "Q = Data[Data.AcceptedAnswerId.notnull()]"
   ]
  },
  {
   "cell_type": "code",
   "execution_count": 29,
   "metadata": {},
   "outputs": [
    {
     "name": "stdout",
     "output_type": "stream",
     "text": [
      "116.4615289999997\n"
     ]
    }
   ],
   "source": [
    "start = time.clock()\n",
    "P = pd.read_csv(\"./Posts.csv\")\n",
    "elapsed = (time.clock() - start)\n",
    "print(elapsed)"
   ]
  },
  {
   "cell_type": "code",
   "execution_count": null,
   "metadata": {},
   "outputs": [],
   "source": [
    "start = time.clock()\n",
    "elapsed = (time.clock() - start)"
   ]
  },
  {
   "cell_type": "code",
   "execution_count": 35,
   "metadata": {},
   "outputs": [],
   "source": [
    "with open(\"./QuestionDict.pkl\",'wb')as f:\n",
    "    pickle.dump(QuestionDict,f)\n",
    "with open(\"./AnswerDict.pkl\",'wb')as f:\n",
    "    pickle.dump(AnswerDict,f)"
   ]
  },
  {
   "cell_type": "code",
   "execution_count": 36,
   "metadata": {},
   "outputs": [
    {
     "data": {
      "text/plain": [
       "(9187228, 26875245, 17463480, 9187228, 0.5260823157812762)"
      ]
     },
     "execution_count": 36,
     "metadata": {},
     "output_type": "execute_result"
    }
   ],
   "source": [
    "len(QuestionDict),len(AnswerDict),nq,nqa,nqa/float(nq)"
   ]
  },
  {
   "cell_type": "code",
   "execution_count": 82,
   "metadata": {},
   "outputs": [
    {
     "data": {
      "text/plain": [
       "[Text(0,0,'AcceptedAnswer Rate')]"
      ]
     },
     "execution_count": 82,
     "metadata": {},
     "output_type": "execute_result"
    },
    {
     "data": {
      "image/png": "[encoded data removed]",
      "text/plain": [
       "<Figure size 864x360 with 2 Axes>"
      ]
     },
     "metadata": {},
     "output_type": "display_data"
    }
   ],
   "source": [
    "sns.set(style=\"whitegrid\")\n",
    "plt.figure(figsize=(12,5))\n",
    "plt.subplot(121)\n",
    "g = sns.barplot(x=[\"#Question with\\n AcceptedAnswer\",\"#TotalQuestion\",\"#Answer\",],y=[len(QuestionDict),nq,len(AnswerDict)])\n",
    "g.axhline(0, color=\"k\", clip_on=False)\n",
    "g.set_xticklabels([\"#Question with\\n AcceptedAnswer\",\"#TotalQuestion\",\"#Answer\",],rotation =0,fontsize=12)\n",
    "sns.despine(bottom=True)\n",
    "g.set_ylabel(\"Num\",fontsize=20)\n",
    "\n",
    "plt.subplot(122)\n",
    "g = sns.barplot(x=[\"AcceptedAnswer Rate\"],y=[nqa/float(nq)],color='darkorange')\n",
    "g.set_xlim(-2,2)\n",
    "g.set_yticklabels([str(i*10)+\"%\" for i in range(11)])\n",
    "g.set_ylim(0,1)\n",
    "g.set_xticklabels([\"AcceptedAnswer Rate\"],fontsize=20)"
   ]
  },
  {
   "cell_type": "code",
   "execution_count": 30,
   "metadata": {},
   "outputs": [],
   "source": []
  }
 ],
 "metadata": {
  "kernelspec": {
   "display_name": "Python 3",
   "language": "python",
   "name": "python3"
  },
  "language_info": {
   "codemirror_mode": {
    "name": "ipython",
    "version": 3
   },
   "file_extension": ".py",
   "mimetype": "text/x-python",
   "name": "python",
   "nbconvert_exporter": "python",
   "pygments_lexer": "ipython3",
   "version": "3.6.5"
  }
 },
 "nbformat": 4,
 "nbformat_minor": 2
}

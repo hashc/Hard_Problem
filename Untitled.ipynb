{
 "cells": [
  {
   "cell_type": "code",
   "execution_count": 1,
   "metadata": {},
   "outputs": [],
   "source": [
    "try:\n",
    "    import xml.etree.cElementTree as et\n",
    "except ImportError:\n",
    "    import xml.etree.ElementTree as et"
   ]
  },
  {
   "cell_type": "code",
   "execution_count": 3,
   "metadata": {},
   "outputs": [],
   "source": [
    "from bs4 import BeautifulSoup"
   ]
  },
  {
   "cell_type": "code",
   "execution_count": null,
   "metadata": {},
   "outputs": [],
   "source": [
    "# 解析文件 \n",
    "parser = et.parse(\"../../data/stackoverflow/Comments.xml\")"
   ]
  },
  {
   "cell_type": "code",
   "execution_count": 2,
   "metadata": {},
   "outputs": [],
   "source": [
    "row=parser.findall(\"row\")"
   ]
  },
  {
   "cell_type": "code",
   "execution_count": 4,
   "metadata": {},
   "outputs": [],
   "source": [
    "row[0].attrib"
   ]
  },
  {
   "cell_type": "code",
   "execution_count": null,
   "metadata": {},
   "outputs": [],
   "source": [
    "len(row)"
   ]
  },
  {
   "cell_type": "code",
   "execution_count": 1,
   "metadata": {},
   "outputs": [],
   "source": [
    "s='''<row Id=\"4\" PostTypeId=\"1\" AcceptedAnswerId=\"7\" CreationDate=\"2008-07-31T21:42:52.667\" Score=\"617\" ViewCount=\"40863\" Body=\"&lt;p&gt;I want to use a track-bar to change a form's opacity.&lt;/p&gt;&#xA;&#xA;&lt;p&gt;This is my code:&lt;/p&gt;&#xA;&#xA;&lt;pre&gt;&lt;code&gt;decimal trans = trackBar1.Value / 5000;&#xA;this.Opacity = trans;&#xA;&lt;/code&gt;&lt;/pre&gt;&#xA;&#xA;&lt;p&gt;When I build the application, it gives the following error:&lt;/p&gt;&#xA;&#xA;&lt;blockquote&gt;&#xA;  &lt;p&gt;Cannot implicitly convert type &lt;code&gt;'decimal'&lt;/code&gt; to &lt;code&gt;'double'&lt;/code&gt;.&lt;/p&gt;&#xA;&lt;/blockquote&gt;&#xA;&#xA;&lt;p&gt;I tried using &lt;code&gt;trans&lt;/code&gt; and &lt;code&gt;double&lt;/code&gt; but then the control doesn't work. This code worked fine in a past VB.NET project.&lt;/p&gt;&#xA;\" OwnerUserId=\"8\" LastEditorUserId=\"6786713\" LastEditorDisplayName=\"Rich B\" LastEditDate=\"2018-07-02T17:55:27.247\" LastActivityDate=\"2019-01-17T13:39:48.937\" Title=\"Convert Decimal to Double?\" Tags=\"&lt;c#&gt;&lt;floating-point&gt;&lt;type-conversion&gt;&lt;double&gt;&lt;decimal&gt;\" AnswerCount=\"13\" CommentCount=\"1\" FavoriteCount=\"46\" CommunityOwnedDate=\"2012-10-31T16:42:47.213\" />'''"
   ]
  },
  {
   "cell_type": "code",
   "execution_count": 14,
   "metadata": {},
   "outputs": [
    {
     "data": {
      "text/plain": [
       "'<row Id=\"4\" PostTypeId=\"1\" AcceptedAnswerId=\"7\" CreationDate=\"2008-07-31T21:42:52.667\" Score=\"617\" ViewCount=\"40863\" Body=\"&lt;p&gt;I want to use a track-bar to change a form\\'s opacity.&lt;/p&gt;&#xA;&#xA;&lt;p&gt;This is my code:&lt;/p&gt;&#xA;&#xA;&lt;pre&gt;&lt;code&gt;decimal trans = trackBar1.Value / 5000;&#xA;this.Opacity = trans;&#xA;&lt;/code&gt;&lt;/pre&gt;&#xA;&#xA;&lt;p&gt;When I build the application, it gives the following error:&lt;/p&gt;&#xA;&#xA;&lt;blockquote&gt;&#xA;  &lt;p&gt;Cannot implicitly convert type &lt;code&gt;\\'decimal\\'&lt;/code&gt; to &lt;code&gt;\\'double\\'&lt;/code&gt;.&lt;/p&gt;&#xA;&lt;/blockquote&gt;&#xA;&#xA;&lt;p&gt;I tried using &lt;code&gt;trans&lt;/code&gt; and &lt;code&gt;double&lt;/code&gt; but then the control doesn\\'t work. This code worked fine in a past VB.NET project.&lt;/p&gt;&#xA;\" OwnerUserId=\"8\" LastEditorUserId=\"6786713\" LastEditorDisplayName=\"Rich B\" LastEditDate=\"2018-07-02T17:55:27.247\" LastActivityDate=\"2019-01-17T13:39:48.937\" Title=\"Convert Decimal to Double?\" Tags=\"&lt;c#&gt;&lt;floating-point&gt;&lt;type-conversion&gt;&lt;double&gt;&lt;decimal&gt;\" AnswerCount=\"13\" CommentCount=\"1\" FavoriteCount=\"46\" CommunityOwnedDate=\"2012-10-31T16:42:47.213\" />'"
      ]
     },
     "execution_count": 14,
     "metadata": {},
     "output_type": "execute_result"
    }
   ],
   "source": [
    "s"
   ]
  },
  {
   "cell_type": "code",
   "execution_count": 19,
   "metadata": {},
   "outputs": [],
   "source": [
    "s2= \"\"\" <row Id=\"7\" PostTypeId=\"2\" ParentId=\"4\" CreationDate=\"2008-07-31T22:17:57.883\" Score=\"420\" Body=\"&lt;p&gt;An explicit cast to double like this isn't necessary:&lt;/p&gt;&#xA;&#xA;&lt;pre&gt;&lt;code&gt;double trans = (double) trackBar1.Value / 5000.0;&#xA;&lt;/code&gt;&lt;/pre&gt;&#xA;&#xA;&lt;p&gt;Identifying the constant as &lt;code&gt;5000.0&lt;/code&gt; (or as &lt;code&gt;5000d&lt;/code&gt;) is sufficient:&lt;/p&gt;&#xA;&#xA;&lt;pre&gt;&lt;code&gt;double trans = trackBar1.Value / 5000.0;&#xA;double trans = trackBar1.Value / 5000d;&#xA;&lt;/code&gt;&lt;/pre&gt;&#xA;\" OwnerUserId=\"9\" LastEditorUserId=\"4020527\" LastEditDate=\"2017-12-16T05:06:57.613\" LastActivityDate=\"2017-12-16T05:06:57.613\" CommentCount=\"0\" />\"\"\""
   ]
  },
  {
   "cell_type": "code",
   "execution_count": 20,
   "metadata": {},
   "outputs": [],
   "source": [
    "soup=BeautifulSoup(s2,\"lxml\")"
   ]
  },
  {
   "cell_type": "code",
   "execution_count": 22,
   "metadata": {},
   "outputs": [],
   "source": [
    "row2=soup.find(\"row\")"
   ]
  },
  {
   "cell_type": "code",
   "execution_count": 26,
   "metadata": {},
   "outputs": [
    {
     "data": {
      "text/plain": [
       "dict_keys(['id', 'posttypeid', 'parentid', 'creationdate', 'score', 'body', 'owneruserid', 'lasteditoruserid', 'lasteditdate', 'lastactivitydate', 'commentcount'])"
      ]
     },
     "execution_count": 26,
     "metadata": {},
     "output_type": "execute_result"
    }
   ],
   "source": [
    "row2.attrs.keys()"
   ]
  },
  {
   "cell_type": "code",
   "execution_count": 13,
   "metadata": {},
   "outputs": [
    {
     "data": {
      "text/plain": [
       "{'id': '4',\n",
       " 'posttypeid': '1',\n",
       " 'acceptedanswerid': '7',\n",
       " 'creationdate': '2008-07-31T21:42:52.667',\n",
       " 'score': '617',\n",
       " 'viewcount': '40863',\n",
       " 'body': \"<p>I want to use a track-bar to change a form's opacity.</p>\\n\\n<p>This is my code:</p>\\n\\n<pre><code>decimal trans = trackBar1.Value / 5000;\\nthis.Opacity = trans;\\n</code></pre>\\n\\n<p>When I build the application, it gives the following error:</p>\\n\\n<blockquote>\\n  <p>Cannot implicitly convert type <code>'decimal'</code> to <code>'double'</code>.</p>\\n</blockquote>\\n\\n<p>I tried using <code>trans</code> and <code>double</code> but then the control doesn't work. This code worked fine in a past VB.NET project.</p>\\n\",\n",
       " 'owneruserid': '8',\n",
       " 'lasteditoruserid': '6786713',\n",
       " 'lasteditordisplayname': 'Rich B',\n",
       " 'lasteditdate': '2018-07-02T17:55:27.247',\n",
       " 'lastactivitydate': '2019-01-17T13:39:48.937',\n",
       " 'title': 'Convert Decimal to Double?',\n",
       " 'tags': '<c#><floating-point><type-conversion><double><decimal>',\n",
       " 'answercount': '13',\n",
       " 'commentcount': '1',\n",
       " 'favoritecount': '46',\n",
       " 'communityowneddate': '2012-10-31T16:42:47.213'}"
      ]
     },
     "execution_count": 13,
     "metadata": {},
     "output_type": "execute_result"
    }
   ],
   "source": [
    "row.attrs"
   ]
  },
  {
   "cell_type": "code",
   "execution_count": 18,
   "metadata": {},
   "outputs": [
    {
     "name": "stdout",
     "output_type": "stream",
     "text": [
      "<p>I want to use a track-bar to change a form's opacity.</p>\n",
      "\n",
      "<p>This is my code:</p>\n",
      "\n",
      "<pre><code>decimal trans = trackBar1.Value / 5000;\n",
      "this.Opacity = trans;\n",
      "</code></pre>\n",
      "\n",
      "<p>When I build the application, it gives the following error:</p>\n",
      "\n",
      "<blockquote>\n",
      "  <p>Cannot implicitly convert type <code>'decimal'</code> to <code>'double'</code>.</p>\n",
      "</blockquote>\n",
      "\n",
      "<p>I tried using <code>trans</code> and <code>double</code> but then the control doesn't work. This code worked fine in a past VB.NET project.</p>\n",
      "\n"
     ]
    }
   ],
   "source": [
    "print(row.attrs['body'])"
   ]
  },
  {
   "cell_type": "code",
   "execution_count": null,
   "metadata": {},
   "outputs": [],
   "source": []
  }
 ],
 "metadata": {
  "kernelspec": {
   "display_name": "Python 3",
   "language": "python",
   "name": "python3"
  },
  "language_info": {
   "codemirror_mode": {
    "name": "ipython",
    "version": 3
   },
   "file_extension": ".py",
   "mimetype": "text/x-python",
   "name": "python",
   "nbconvert_exporter": "python",
   "pygments_lexer": "ipython3",
   "version": "3.6.5"
  }
 },
 "nbformat": 4,
 "nbformat_minor": 2
}

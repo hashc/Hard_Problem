{
 "cells": [
  {
   "cell_type": "markdown",
   "metadata": {},
   "source": [
    "# Hard Problems\n",
    "what is hard problem?  what is good question?\n",
    "when we combine two tag what are  less relative with each other, may it be a hard problem?\n",
    "we consider the following two things:\n",
    "- deepth\n",
    "- diversity\n",
    "combining two isoloted fields may cost huge time. however, how to define the distance two question is a hard problem.\n",
    "An eazier resolution is to count the any two tags co-appearance in the dataset.4\n",
    "\n",
    "# Core \n",
    "- shell by the year?\n",
    "co-cited?  or citation?\n",
    "Co-cited, center of the systems.\n",
    "\n",
    "\n",
    "- shell by the structure?\n",
    "\n",
    "\n",
    "# evolution of the systems"
   ]
  },
  {
   "cell_type": "code",
   "execution_count": null,
   "metadata": {},
   "outputs": [],
   "source": []
  }
 ],
 "metadata": {
  "kernelspec": {
   "display_name": "Python 3",
   "language": "python",
   "name": "python3"
  },
  "language_info": {
   "codemirror_mode": {
    "name": "ipython",
    "version": 3
   },
   "file_extension": ".py",
   "mimetype": "text/x-python",
   "name": "python",
   "nbconvert_exporter": "python",
   "pygments_lexer": "ipython3",
   "version": "3.6.5"
  }
 },
 "nbformat": 4,
 "nbformat_minor": 2
}

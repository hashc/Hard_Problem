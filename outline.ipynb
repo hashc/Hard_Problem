{
 "cells": [
  {
   "cell_type": "markdown",
   "metadata": {},
   "source": [
    "# Hard Problems\n",
    "what is hard problem?  what is good question?\n",
    "when we combine two tag what are  less relative with each other, may it be a hard problem?\n",
    "we consider the following two things:\n",
    "- deepth\n",
    "- diversity\n",
    "combining two isoloted fields may cost huge time. however, how to define the distance two question is a hard problem.\n",
    "An eazier resolution is to count the any two tags co-appearance in the dataset.4\n",
    "\n",
    "\n",
    "- computers can solve many hard problems by breaking them into many simple parts and process them extrmely rapidly clever algorithms can make all the difference in whether the computer can solve the problem\n",
    "\n",
    "- Humans solve hard problems using intuition, knowledge , deep understanding, advanced math...\n",
    "\n",
    "To judge whether a problem is hrad, we must consider how people solve it!\n",
    "\n",
    "The data we have :\n",
    "1. user ask a question\n",
    "2. the question is labelled by several tags.\n",
    "3. other users answer the question.\n",
    "4. users and the question answered in the past\n",
    "\n",
    "\n",
    "\n",
    "in SciSci, we have paper itself and reference papers and literature papers.\n",
    "which paper asked question, which paper answer question? experiment,therosom\n",
    "\n",
    "\n",
    "# Core \n",
    "- shell by the year?\n",
    "co-cited?  or citation?\n",
    "Co-cited, center of the systems.\n",
    "\n",
    "Year\n",
    "- shell by the structure?\n",
    "\n",
    "\n",
    "# evolution of the systems"
   ]
  },
  {
   "cell_type": "code",
   "execution_count": null,
   "metadata": {},
   "outputs": [],
   "source": []
  }
 ],
 "metadata": {
  "kernelspec": {
   "display_name": "Python 3",
   "language": "python",
   "name": "python3"
  },
  "language_info": {
   "codemirror_mode": {
    "name": "ipython",
    "version": 3
   },
   "file_extension": ".py",
   "mimetype": "text/x-python",
   "name": "python",
   "nbconvert_exporter": "python",
   "pygments_lexer": "ipython3",
   "version": "3.7.3"
  }
 },
 "nbformat": 4,
 "nbformat_minor": 2
}
